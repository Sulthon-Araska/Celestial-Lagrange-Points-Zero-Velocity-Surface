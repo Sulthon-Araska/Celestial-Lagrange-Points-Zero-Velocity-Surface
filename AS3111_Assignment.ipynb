{
 "cells": [
  {
   "cell_type": "markdown",
   "id": "0b160c4a",
   "metadata": {},
   "source": [
    "# Tugas Akhir AS3111 Mekanika Benda Langit\n",
    "\n",
    "Batas pengumpulan: **4 Desember 2023, pukul 23.59 WIB.**"
   ]
  },
  {
   "cell_type": "markdown",
   "id": "3c5cbf41",
   "metadata": {},
   "source": [
    "Nama: **[Isi nama disini]**\n",
    "\n",
    "NIM: **[Isi NIM disini]**"
   ]
  },
  {
   "cell_type": "markdown",
   "id": "1bee1c77",
   "metadata": {},
   "source": [
    "## 1. Penjelasan Tugas"
   ]
  },
  {
   "cell_type": "markdown",
   "id": "743589bc",
   "metadata": {},
   "source": [
    "Pada tugas ini, kita akan melakukan konstruksi dari titik Lagrange yang muncul pada sistem tiga benda menggunakan sistem bintang yang diperoleh dari **(Deb, 2011)**. Dari artikel tersebut, data yang akan digunakan adalah periode, massa total sistem bintang, dan rasio massa dari kedua bintang yang menjadi anggota dari sistem <b>CT Eri</b>. Setelahnya, kita akan menyusun plot <b>ZVC <i>(Zero Velocity Contour)</i></b> sistem bintang CT Eri dan sistem planet tata surya menggunakan <i>resources</i> dari <i>website</i> milik Ridlo Wibowo.\n",
    "\n",
    "Tugas anda adalah mengisi bagian dari kode yang ditandai oleh tulisan <code># YOUR CODE HERE</code>. Anda tidak perlu mengubah bagian lain dari dokumen ini yang tidak ditandai karena seluruh langkah yang diperlukan sudah diberikan pada penjelasan sebelum blok kode yang bersesuaian. Apabila anda merasa kesulitan, terdapat <i><b>hint</b></i> untuk memudahkan pengerjaan, namun Anda diharap untuk melihat <i>hint</i> yang diberikan <b>hanya pada saat benar-benar tidak memiliki ide</b> untuk melanjutkan pengerjaan tugas ini. \n",
    "\n",
    "Untuk memastikan apakah pekerjaan anda sesuai dengan yang diharapkan, telah disediakan <b><i>expected outputs</i></b> setelah blok kode yang bersesuaian. Hasil yang ditampilkan mungkin akan sedikit berbeda dikarenakan oleh ketelitian program."
   ]
  },
  {
   "cell_type": "markdown",
   "id": "b272e43a",
   "metadata": {},
   "source": [
    "## 2. Problem 1: Menentukan Titik Lagrange"
   ]
  },
  {
   "cell_type": "markdown",
   "id": "722c1f8c",
   "metadata": {},
   "source": [
    "Penentuan titik Lagrange sebenarnya sudah pernah dilakukan pada materi yang diajarkan di kelas. Namun, penentukan titik Langrange sebelumnya dilakukan dengan beberapa asumsi penting seperti $M_1 >> M_2$ dan $x << a$. Sementara itu, penentuan radius Roche Lobe pada bintang ganda dekat tidak dapat menggunakan asumsi yang sama dikarenakan rasio massa yang besar dan jarak titik Lagrange terhadap jejari orbit yang tidak dapat diabaikan lagi. Berikut adalah ilustrasi penentuan posisi titik Lagrange 1 beserta gaya yang bersesuaian.\n",
    "\n",
    "![Diagram ilustrasi titik Lagrange 1](lagrange.png)\n",
    "\n",
    "Dari gambar yang terdapat pada bagian sebelumnya, kita dapat menyusun persamaan gerak untuk benda yang berada di titik $L_1$ dengan membuat hubungan antara percepatan gravitasi akibat $M_1$ ($g_1$), $M_2$ ($g_2$), dan percepatan sentrifugal $a_c$, untuk $L_1$ maka didapatkan persamaan di bawah. Anda dapat melihat penurunan secara lebih detail pada dokumen yang tertera pada folder ini.\n",
    "\n",
    "$$\n",
    "\\frac{M_1}{(r_1 + r_{L_1})^2} - \\frac{M_2}{(r_2 - r_{L_1})^2} = \\frac{M_1}{R^2 r_2}r_{L_1}\n",
    "$$\n",
    "\n",
    "Seluruh parameter sebelumnya bisa ditentukan dari Hukum Kepler, kecuali $r_{L1}$, sehingga dilakukan iterasi hingga menghasilkan kurva di bawah ini.\n",
    "\n",
    "![Kurva persamaan](diff_curve.png)"
   ]
  },
  {
   "cell_type": "markdown",
   "id": "ea4a8fcc",
   "metadata": {},
   "source": [
    "<details>\n",
    "    <summary><font color=\"green\"><b>Click for hints!</b></font></summary>\n",
    "  \n",
    "  ## Heading\n",
    "  1. A numbered\n",
    "  2. list\n",
    "     * With some\n",
    "     * Sub bullets\n",
    "</details>"
   ]
  },
  {
   "cell_type": "markdown",
   "id": "90bc97f2",
   "metadata": {},
   "source": [
    "What symbol is ...?  \n",
    "<br></br>\n",
    "\n",
    "<details>\n",
    "    <summary>Click once on <font color=\"red\"><b>this text</b></font> to hide/unhide the answer!</summary>\n",
    "  \n",
    "  ### Answer\n",
    "  The answer is the arrow thingy...\n",
    "</details>"
   ]
  },
  {
   "cell_type": "code",
   "execution_count": null,
   "id": "e49e4353",
   "metadata": {},
   "outputs": [],
   "source": []
  }
 ],
 "metadata": {
  "kernelspec": {
   "display_name": "Python 3 (ipykernel)",
   "language": "python",
   "name": "python3"
  },
  "language_info": {
   "codemirror_mode": {
    "name": "ipython",
    "version": 3
   },
   "file_extension": ".py",
   "mimetype": "text/x-python",
   "name": "python",
   "nbconvert_exporter": "python",
   "pygments_lexer": "ipython3",
   "version": "3.11.3"
  }
 },
 "nbformat": 4,
 "nbformat_minor": 5
}
