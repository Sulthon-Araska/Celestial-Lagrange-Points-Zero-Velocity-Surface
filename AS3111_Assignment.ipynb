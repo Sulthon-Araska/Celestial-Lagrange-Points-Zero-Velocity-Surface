{
 "cells": [
  {
   "cell_type": "markdown",
   "id": "0b160c4a",
   "metadata": {},
   "source": [
    "# Tugas Akhir AS3111 Mekanika Benda Langit\n",
    "\n",
    "Batas pengumpulan: **4 Desember 2023, pukul 23.59 WIB.**"
   ]
  },
  {
   "cell_type": "markdown",
   "id": "3c5cbf41",
   "metadata": {},
   "source": [
    "Nama: **[Isi nama disini]**\n",
    "\n",
    "NIM: **[Isi NIM disini]**"
   ]
  },
  {
   "cell_type": "markdown",
   "id": "1bee1c77",
   "metadata": {},
   "source": [
    "## 1. Penjelasan Tugas"
   ]
  },
  {
   "cell_type": "markdown",
   "id": "743589bc",
   "metadata": {},
   "source": [
    "Pada tugas ini, kita akan melakukan konstruksi dari titik Lagrange yang muncul pada sistem tiga benda menggunakan sistem bintang yang diperoleh dari **(Deb, 2011)**. Dari artikel tersebut, data yang akan digunakan adalah periode, massa total sistem bintang, dan rasio massa dari kedua bintang yang menjadi anggota dari sistem <b>CT Eri</b>. Setelahnya, kita akan menyusun plot <b>ZVC <i>(Zero Velocity Contour)</i></b> sistem bintang CT Eri dan sistem planet tata surya menggunakan <i>resources</i> dari <i>website</i> milik Ridlo Wibowo.\n",
    "\n",
    "Tugas anda adalah mengisi bagian dari kode yang ditandai oleh tulisan <code># YOUR CODE HERE</code>. Anda tidak perlu mengubah bagian lain dari dokumen ini yang tidak ditandai karena seluruh langkah yang diperlukan sudah diberikan pada penjelasan sebelum blok kode yang bersesuaian. Apabila anda merasa kesulitan, terdapat <i><b>hint</b></i> untuk memudahkan pengerjaan, namun Anda diharap untuk melihat <i>hint</i> yang diberikan <b>hanya pada saat benar-benar tidak memiliki ide</b> untuk melanjutkan pengerjaan tugas ini. \n",
    "\n",
    "Untuk memastikan apakah pekerjaan anda sesuai dengan yang diharapkan, telah disediakan <b><i>expected outputs</i></b> setelah blok kode yang bersesuaian. Hasil yang ditampilkan mungkin akan sedikit berbeda dikarenakan oleh ketelitian program."
   ]
  },
  {
   "cell_type": "markdown",
   "id": "6b8c51d9",
   "metadata": {},
   "source": [
    "## 2. Persiapan Tugas"
   ]
  },
  {
   "cell_type": "markdown",
   "id": "2a3be42e",
   "metadata": {},
   "source": [
    "Beberapa modul perlu kita <i>import</i> untuk mengerjakan tugas ini. Berikut adalah beberapa di antaranya:\n",
    "\n",
    "* [NumPy](https://numpy.org/doc/) digunakan sebagai modul untuk melakukan perhitungan pada Python.\n",
    "* [Matplotlib PyPlot](https://matplotlib.org/3.5.3/api/_as_gen/matplotlib.pyplot.html) untuk membuat grafik numerik pada program Python.\n",
    "* [AstroPy](https://docs.astropy.org/en/stable/) yang biasa digunakan untuk melakukan perhitungan berbasis astronomi pada program Python. Klik untuk melihat dokumentasi submodul [astropy.constants](https://docs.astropy.org/en/stable/constants/) dan [astropy.units](https://docs.astropy.org/en/stable/units/).\n",
    "\n",
    "Seharusnya Anda sudah cukup familiar dengan penggunaan NumPy dan Matplotlib sehingga tidak perlu ada penjelasan lebih mendetail terkait kedua modul tersebut. Penggunaan AstroPy pada tugas kali ini bertujuan untuk memudahkan pengerjaan yang berkaitan dengan konstanta dan besaran dalam astronomi. Kita akan menggunakan submodul <code>constants</code> untuk menyatakan konstanta astronomis yang digunakan dan submodul <code>units</code> untuk menyatakan besaran satuan astronomis."
   ]
  },
  {
   "cell_type": "code",
   "execution_count": null,
   "id": "0c04612a",
   "metadata": {},
   "outputs": [],
   "source": [
    "# DO NOT EDIT THIS BLOCK\n",
    "\n",
    "# Import modul yang diperlukan untuk pengerjaan tugas akhir\n",
    "import numpy as np\n",
    "import matplotlib.pyplot as plt\n",
    "from astropy import constants as const\n",
    "from astropy import units as u\n",
    "from time import time\n",
    "\n",
    "# Atur parameter untuk modul Matplotlib\n",
    "plt.rcParams[\"figure.figsize\"] = [12,8.5]\n",
    "plt.rcParams['savefig.dpi'] = 500"
   ]
  },
  {
   "cell_type": "markdown",
   "id": "b272e43a",
   "metadata": {},
   "source": [
    "## 3. Problem 1: Menentukan Titik Lagrange"
   ]
  },
  {
   "cell_type": "markdown",
   "id": "722c1f8c",
   "metadata": {},
   "source": [
    "Penentuan titik Lagrange sebenarnya sudah pernah dilakukan pada materi yang diajarkan di kelas. Namun, penentukan titik Langrange sebelumnya dilakukan dengan beberapa asumsi penting seperti $M_1 >> M_2$ dan $x << a$. Sementara itu, penentuan radius Roche Lobe pada bintang ganda dekat tidak dapat menggunakan asumsi yang sama dikarenakan rasio massa yang besar dan jarak titik Lagrange terhadap jejari orbit yang tidak dapat diabaikan lagi. Berikut adalah ilustrasi penentuan posisi titik Lagrange L1 beserta gaya yang bersesuaian.\n",
    "\n",
    "![Diagram ilustrasi titik Lagrange L1](lagrange.png)\n",
    "\n",
    "Dari gambar yang terdapat pada bagian sebelumnya, kita dapat menyusun persamaan gerak untuk benda yang berada di titik $L_1$ dengan membuat hubungan antara percepatan gravitasi akibat $M_1$ ($g_1$), $M_2$ ($g_2$), dan percepatan sentrifugal $a_c$, untuk $L_1$ maka didapatkan persamaan di bawah. Anda dapat melihat penurunan secara lebih detail pada dokumen yang tertera pada folder ini.\n",
    "\n",
    "$$\n",
    "\\frac{M_1}{(r_1 + r_{L_1})^2} - \\frac{M_2}{(r_2 - r_{L_1})^2} = \\frac{M_1}{R^2 r_2}r_{L_1}\n",
    "$$\n",
    "\n",
    "Seluruh parameter sebelumnya bisa ditentukan dari Hukum Kepler, kecuali $r_{L1}$, sehingga dilakukan iterasi hingga menghasilkan kurva di bawah ini.\n",
    "\n",
    "![Kurva persamaan](diff_curve.png)"
   ]
  },
  {
   "cell_type": "markdown",
   "id": "4d3d715f",
   "metadata": {},
   "source": [
    "Dari artikel yang telah disebut sebelumnya, kita akan mengambil data dari sistem bintang **CT Eri** dengan nilai parameter sebagai berikut.\n",
    "\n",
    "**Nama** : CT Eri\n",
    "\n",
    "**Periode** : $0.63419$ hari\n",
    "\n",
    "**Massa total ($M_{\\odot}$)** : $2.110$\n",
    "\n",
    "**Rasio massa ($q$)** : $0.30$\n",
    "\n",
    "Pada blok kode berikutnya, Anda diminta untuk memasukkan besaran tersebut pada variabel yang bersesuaian."
   ]
  },
  {
   "cell_type": "code",
   "execution_count": null,
   "id": "1b56cc0e",
   "metadata": {},
   "outputs": [],
   "source": [
    "# Inisialisasi parameter sistem bintang CT Eri\n",
    "# Pastikan Anda menambahkan satuan yang sesuai menggunakan modul astropy.units\n",
    "period = # YOUR CODE HERE\n",
    "total_mass = # YOUR CODE HERE\n",
    "mass_ratio = # YOUR CODE HERE\n",
    "\n",
    "print(\"P = {}\\nM = {}\\nq = {}\".format(period, total_mass, mass_ratio))"
   ]
  },
  {
   "cell_type": "markdown",
   "id": "783e17bb",
   "metadata": {},
   "source": [
    "<b>Expected Outputs:</b>\n",
    "\n",
    "    P = 0.63419 d\n",
    "    M = 2.11 solMass\n",
    "    q = 0.3"
   ]
  },
  {
   "cell_type": "markdown",
   "id": "100b856e",
   "metadata": {},
   "source": [
    "<details>\n",
    "  <summary><font size=\"3\" color=\"darkgreen\"><b>Click for hints</b></font></summary>\n",
    "       \n",
    "   * Anda dapat menambahkan besaran hari dan massa Matahari dengan mengetikkan kode <code>u.d</code> dan <code>u.solMass</code>.\n",
    " \n",
    "<details>\n",
    "          <summary><font size=\"2\" color=\"darkblue\"><b> Click for more hints</b></font></summary>\n",
    "        \n",
    "  - Berikut adalah kode yang dapat digunakan untuk menambahkan satuan hari ke dalam variabel.\n",
    "    \n",
    "    `variable = value * u.d`\n",
    "\n",
    "    Dengan menggunakan kode yang serupa, Anda dapat menambahkan berbagai satuan lain ke dalam variabel.\n",
    "    \n",
    "    </details>\n",
    "\n",
    "\n",
    "</details>"
   ]
  },
  {
   "cell_type": "markdown",
   "id": "d8507816",
   "metadata": {},
   "source": [
    "### Problem 1.1: Menentukan posisi titik Lagrange L1"
   ]
  },
  {
   "cell_type": "markdown",
   "id": "86f0d6e3",
   "metadata": {},
   "source": [
    "Hal pertama yang dapar dilakukan adalah menghitung jarak pisah (sumbu semi-mayor) dari sistem bintang CT Eri menggunakan Hukum III Kepler. Pada blok kode berikutnya, Anda diminta untuk melengkapi persamaan Hukum III Kepler menggunakan variabel yang telah dinyatakan sebelumnya."
   ]
  },
  {
   "cell_type": "code",
   "execution_count": null,
   "id": "51755df9",
   "metadata": {},
   "outputs": [],
   "source": [
    "# Definisikan fungsi untuk persamaan Hukum III Kepler\n",
    "# Jangan lupa untuk menyesuaikan besaran menggunakan modul astropy.units pada fungsi yang dibuat\n",
    "# Anda dapat menggunakan modul astropy.constants untuk menuliskan konstanta yang diperlukan\n",
    "\n",
    "def KeplerIII(period):\n",
    "    a = # YOUR CODE HERE\n",
    "    return a"
   ]
  },
  {
   "cell_type": "markdown",
   "id": "d3cb0fec",
   "metadata": {},
   "source": [
    "Dari fungsi tersebut, kita nyatakan nilai sumbu semi-mayor sistem bintang, <code>a</code>, dengan memanfaatkan properti <code>decompose</code> untuk menyederhanakan satuan yang dihasilkan, kemudian kita ubah besarannya menjadi AU."
   ]
  },
  {
   "cell_type": "code",
   "execution_count": null,
   "id": "0ac2aaba",
   "metadata": {},
   "outputs": [],
   "source": [
    "semi_major_axis = KeplerIII(period).decompose().to(u.AU)\n",
    "\n",
    "print(\"a = {:.4}\".format(semi_major_axis))"
   ]
  },
  {
   "cell_type": "markdown",
   "id": "539ae3c8",
   "metadata": {},
   "source": [
    "<b>Expected Output:</b>\n",
    "\n",
    "    a = 0.01853 AU"
   ]
  },
  {
   "cell_type": "markdown",
   "id": "e655d2ac",
   "metadata": {},
   "source": [
    "<details>\n",
    "    <summary><font size=\"3\" color=\"darkgreen\"><b>Click for hints</b></font></summary>\n",
    "  \n",
    "* Berikut adalah persamaan yang dapat Anda gunakan untuk merumuskan Hukum III Kepler.\n",
    "    \n",
    "$$\n",
    "a = \\left({\\frac{GM}{4\\pi^2}} P^2\\right)^{1/3}\n",
    "$$\n",
    "    \n",
    "</details>"
   ]
  },
  {
   "cell_type": "markdown",
   "id": "28e53a60",
   "metadata": {},
   "source": [
    "Selanjutnya, Anda dapat dengan mudah menghitung massa dari masing-masing komponen CT Eri beserta dengan jarak dari setiap komponen ke pusat massa sistem. Anda dapat memanfaatkan pengetahuan tentang radius massa untuk menurunkan massa dari setiap komponen. Perlu diingat, bahwa orbit komponen dengan massa yang lebih besar akan berada lebih dekat dengan pusat massa."
   ]
  },
  {
   "cell_type": "code",
   "execution_count": null,
   "id": "68316477",
   "metadata": {},
   "outputs": [],
   "source": [
    "# Hitung massa tiap komponen dengan memanfaatkan variabel \n",
    "# rasio massa yang telah dinyatakan sebelumnya\n",
    "mass_1 = # YOUR CODE HERE\n",
    "mass_2 = # YOUR CODE HERE\n",
    "\n",
    "# Kemudian, hitung jarak setiap komponen CT Eri dari pusat massa\n",
    "# dengan menggunakan cara yang sama seperti penentuan massa komponen\n",
    "# Ingat massa berbanding terbalik dengan jarak (radius)\n",
    "radius_1 = # YOUR CODE HERE\n",
    "radius_2 = # YOUR CODE HERE\n",
    "\n",
    "# Lihat nilai massa dan jarak dari setiap komponen\n",
    "print(f\"M1 = {mass_1:.5f}\\nM2 = {mass_2:.5f}\\nr1 = {radius_1:.5f}\\nr2 = {radius_2:.5f}\")"
   ]
  },
  {
   "cell_type": "markdown",
   "id": "cb2697b6",
   "metadata": {},
   "source": [
    "<b>Expected Outputs:</b>\n",
    "\n",
    "    M1 = 1.62308 solMass\n",
    "    M2 = 0.48692 solMass\n",
    "    r1 = 0.00428 AU\n",
    "    r2 = 0.01425 AU"
   ]
  },
  {
   "cell_type": "markdown",
   "id": "f4bd6c35",
   "metadata": {},
   "source": [
    "<details>\n",
    "    <summary><font size=3 color=\"darkgreen\"><b>Click for hints</b></font></summary>\n",
    "  \n",
    "* Turunkan persamaan untuk massa dari setiap komponen dengan memanfaatkan dua persamaan di bawah ini.\n",
    "    \n",
    "$$\n",
    "M = M_1 + M_2 \\\\\n",
    "q = \\frac{M_2}{M_1}\n",
    "$$\n",
    "\n",
    "* Persamaan untuk radius tiap komponen dapat diturunkan dengan cara yang sama, namun perlu diingat bahwa jarak berbanding terbalik dengan massa.\n",
    "    \n",
    "</details>"
   ]
  },
  {
   "cell_type": "markdown",
   "id": "63cb37d7",
   "metadata": {},
   "source": [
    "Dari persamaan yang telah diturunkan, posisi titik Lagrange L1 dapat ditaksir secara kasar dengan menentukan posisi dimana selisih dari ruas kiri dan kanan persamaan mendekati nol. Hal tersebut harus dilakukan secara numerik dikarenakan nilai $r_{L_1}$ harus ditentukan secara iteratif. Pada blok kode berikutnya, Anda diminta untuk melengkapi fungsi persamaan ruas kiri, kanan, dan selisih dari kedua ruas tersebut."
   ]
  },
  {
   "cell_type": "code",
   "execution_count": null,
   "id": "b7eef5c5",
   "metadata": {},
   "outputs": [],
   "source": [
    "# Definisikan fungsi kiri dan kanan dari persamaan, serta selisih dari kedua fungsi tersebut.\n",
    "# Pastikan satuan yang digunakan sesuai dengan satuan internasional\n",
    "# Jangan lupa untuk melakukan decompose pada akhir persamaan\n",
    "\n",
    "def left(x):\n",
    "    left = # YOUR CODE HERE\n",
    "    return left\n",
    "\n",
    "def right(x):\n",
    "    right = # YOUR CODE HERE\n",
    "    return right\n",
    "\n",
    "def diff(x,y):\n",
    "    diff = # YOUR CODE HERE\n",
    "    return diff"
   ]
  },
  {
   "cell_type": "markdown",
   "id": "362028f4",
   "metadata": {},
   "source": [
    "<details>\n",
    "    <summary><font size=3 color=\"darkgreen\"><b>Click for hints</b></font></summary>\n",
    "  \n",
    "* Untuk mempermudah, berikut diberikan kembali persamaan yang telah dituliskan sebelumnya.\n",
    "    \n",
    "$$\n",
    "\\frac{M_1}{(r_1 + r_{L_1})^2} - \\frac{M_2}{(r_2 - r_{L_1})^2} = \\frac{M_1}{R^2 r_2}r_{L_1}\n",
    "$$\n",
    "\n",
    "* Jangan lupa untuk menambahkan fitur `decompose` pada akhir persamaan untuk menyederhanakan hasil yang diperoleh.\n",
    "    \n",
    "<details>\n",
    "          <summary><font size=\"2\" color=\"darkblue\"><b> Click for more hints</b></font></summary>\n",
    "        \n",
    "  - Nilai `x` pada fungsi `left` dan `right` nantinya akan disubstitusi oleh $r_{L_1}$, sehingga Anda cukup menuliskan `x` setiap menemukan variabel $r_{L_1}$ pada persamaan di atas.\n",
    "    \n",
    "    </details>\n",
    "    \n",
    "</details>"
   ]
  },
  {
   "cell_type": "markdown",
   "id": "44586f92",
   "metadata": {},
   "source": [
    "Anda sudah mendefinisikan fungsi yang diperlukan untuk menentukan posisi titik Lagrange L1 dari sistem bintang CT Eri. Selanjutnya, kita perlu membuat grafik yang menunjukkan nilai percepatan dari ruas kiri dan kanan persamaan terhadap jarak titik Lagrange L1 untuk mempermudah proses awal dalam menentukan posisi titik L1."
   ]
  },
  {
   "cell_type": "code",
   "execution_count": null,
   "id": "c44b320b",
   "metadata": {},
   "outputs": [],
   "source": [
    "# Plot nilai fungsi ruas kiri dan kanan dari persamaan\n",
    "# untuk mendapatkan gambaran awal posisi titik L1\n",
    "\n",
    "# Bentuk array yang memuat 1.000.000 titik dengan jarak yang sama\n",
    "# di antara 0 dan 0.0125 AU menggunakan fitur linspace pada modul NumPy\n",
    "dist_array = # YOUR CODE HERE\n",
    "\n",
    "plt.grid()\n",
    "plt.plot(dist_array, left(dist_array), linewidth=2, label=\"Ruas kiri\", c=\"red\")\n",
    "plt.plot(dist_array, right(dist_array), linewidth=2, label=\"Ruas kanan\", c=\"black\")\n",
    "plt.xlabel(r\"$r_{L_1}$ (AU)\", fontsize = 14)\n",
    "plt.legend(fontsize = 14)\n",
    "plt.show()"
   ]
  },
  {
   "cell_type": "code",
   "execution_count": null,
   "id": "7f4cb4ce",
   "metadata": {},
   "outputs": [],
   "source": [
    "# Plot kembali nilai fungsi ruas kiri dan kanan dengan batas lebih sempit\n",
    "# untuk mendapatkan gambaran awal posisi titik L1\n",
    "\n",
    "# Anda dapat mendefinisikan batas pada kode di bawah agar proses iterasi lebih efektif\n",
    "dist_new = # YOUR CODE HERE\n",
    "\n",
    "plt.grid()\n",
    "plt.plot(dist_new, left(dist_new), linewidth=2, label=\"Ruas kiri\", c=\"red\")\n",
    "plt.plot(dist_new, right(dist_new), linewidth=2, label=\"Ruas kanan\", c=\"black\")\n",
    "plt.xlabel(r\"$r_{L_1}$ (AU)\", fontsize = 14)\n",
    "plt.legend(fontsize = 14)\n",
    "plt.show()"
   ]
  },
  {
   "cell_type": "markdown",
   "id": "5a320295",
   "metadata": {},
   "source": [
    "Dari grafik yang telah Anda buat sebelumnya, definisikan batas awal yang menurut Anda mendekati nilai jarak dimana selisih percepatan mendekati nol. Selanjutnya, kita akan lakukan iterasi dengan menghitung fungsi ruas kiri dan kanan, serta selisih dari ruas kiri dan kanan yang telah dihitung sebelumnya. Proses iterasi terdiri dari beberapa tahap sebagai berikut:\n",
    "\n",
    "* Inisiasi variabel `distance` sesuai dengan batas awal yang telah ditentukan dari grafik.\n",
    "* Inisiasi `learning_rate` yang akan digunakan sebagai faktor iterasi. Nilai `learning_rate` akan ditambahkan ke variabel `distance` pada setiap iterasi.\n",
    "* Nyatakan fungsi `left_val` dan `right_val` untuk menghitung fungsi ruas kiri dan kanan secara berturut-turut. Anda dapat menggunakan fungsi yang telah didefinisikan sebelumnya.\n",
    "* Hitung selisih fungsi ruas kanan dan kiri menggunakan variabel `diffs`. Perhatikan bahwa selisih bisa bernilai negatif atau positif sehingga Anda perlu melakukan sedikit modifikasi pada perhitungan yang dilakukan.\n",
    "* Program akan melakukan iterasi hingga selisih yang ditemukan lebih kecil dibandingkan dengan selisih batas yang telah ditentukan. Nilai selisih yang diterima adalah kurang dari **10 kg/m^2**. Anda dapat menentukan batas yang lebih besar, namun Anda hanya mendapat sebagian nilai untuk blok kode di bawah ini."
   ]
  },
  {
   "cell_type": "code",
   "execution_count": null,
   "id": "13421f80",
   "metadata": {
    "scrolled": true
   },
   "outputs": [],
   "source": [
    "# Lakukan iterasi dengan jarak awal sesuai dengan nilai\n",
    "# yang Anda tentukan berdasarkan grafik yang telah dibuat sebelumnya\n",
    "\n",
    "# Masukkan jarak awal dalam satuan AU\n",
    "distance = # YOUR CODE HERE\n",
    "\n",
    "# Masukkan learning rate yang Anda kira sesuai \n",
    "# agar iterasi berjalan dengan efektif\n",
    "learning_rate = # YOUR CODE HERE\n",
    "\n",
    "# Variabel berikut akan melakukan record jumlah iterasi\n",
    "iter = 1\n",
    "\n",
    "# Variabel berikut menentukan batas waktu iterasi\n",
    "time_limit = time() + 360\n",
    "\n",
    "while (time() < time_limit):\n",
    "    # Lengkapi kode berikut untuk menghitung fungsi ruas kiri\n",
    "    left_val = # YOUR CODE HERE\n",
    "    \n",
    "    # Lengkapi kode berikut untuk menghitung fungsi ruas kanan\n",
    "    right_val = # YOUR CODE HERE\n",
    "    \n",
    "    # Lengkapi kode berikut untuk menghitung selisih ruas kiri dan kanan\n",
    "    diffs = # YOUR CODE HERE\n",
    "    \n",
    "    # Program akan mencetak progress setiap 50000 iterasi\n",
    "    if (iter % 50000) == 0:\n",
    "        print(f\"Iteration {iter}: Diff = {diffs}\")\n",
    "    \n",
    "    # Lengkapi syarat untuk menghentikan iterasi\n",
    "    if (# YOUR CODE HERE):\n",
    "        break\n",
    "    \n",
    "    # Iterasi akan dilakukan dengan faktor tambahan\n",
    "    # sebesar learning rate yang telah ditentukan\n",
    "    distance += learning_rate\n",
    "    iter += 1\n",
    "\n",
    "if (time() < tiem_limit):\n",
    "    print(f\"\\nProses selesai pada iterasi {iter} dengan selisih {diffs}\")\n",
    "    print(f\"Jarak L1 dari pusat massa adalah {distance}\")\n",
    "else:\n",
    "    print(\"\\nIterasi berjalan terlalu lama. Anda mungkim melompati batas yang ditentukan.\")\n",
    "        \n",
    "# Simpan jarak L1 pada variabel distance_L1\n",
    "distance_L1 = distance"
   ]
  },
  {
   "cell_type": "markdown",
   "id": "d50da918",
   "metadata": {},
   "source": [
    "<b>Expected Outputs:</b>\n",
    "<table>\n",
    "    <tr>\n",
    "      <td> <b>Selisih minimum yang mungkin<b></td>\n",
    "      <td> 7.691131591796875 </td> \n",
    "    </tr>\n",
    "</table>"
   ]
  },
  {
   "cell_type": "markdown",
   "id": "cf232de3",
   "metadata": {},
   "source": [
    "<details>\n",
    "    <summary><font size=3 color=\"darkgreen\"><b>Click for hints</b></font></summary>\n",
    "\n",
    "* Tentukan jarak awal yang cukup dekat dengan titik potong di grafik. Anda dapat mengatur batas grafik dari `0.006 AU` hingga `0.008 AU`.\n",
    "    \n",
    "* Jika proses iterasi berlangsung terlalu lama, misalnya lebih dari 5 menit, ada kemungkinan program Anda melewati melompati batas selisih yang ditentukan.\n",
    "    \n",
    "<details>\n",
    "          <summary><font size=\"2\" color=\"darkblue\"><b>Bagaimana jika proses iterasi tidak selesai?</b></font></summary>\n",
    "        \n",
    "  - Anda dapat memulai iterasi dengan jarak awal `0.007 AU`, namun nilai tersebut tidak menghasilkan iterasi yang efektif. Silakan cari nilai jarak awal sehingga proses iterasi lebih efektif.\n",
    "    \n",
    "<details>\n",
    "          <summary><font size=\"2\" color=\"darkblue\"><b>Klik menu berikut jika sudah putus asa</b></font></summary>\n",
    "        \n",
    "  - Nilai berikut dapat Anda pilih untuk memulai iterasi. Proses yang dijalankan tidak terlalu efektif dan memakan waktu yang lama, sehingga Anda tetap dianjurkan untuk menentukan sendiri nilai yang digunakan.\n",
    "    \n",
    "    `distance = 0.0072 * u.AU`\n",
    "    \n",
    "    `learning_rate = 1E-15`\n",
    "    \n",
    "    </details>\n",
    "    \n",
    "    </details>\n",
    "    \n",
    "</details>"
   ]
  },
  {
   "cell_type": "markdown",
   "id": "d2d96368",
   "metadata": {},
   "source": [
    "### Problem 1.2: Menentukan posisi titik Lagrange L3"
   ]
  },
  {
   "cell_type": "markdown",
   "id": "39b53068",
   "metadata": {},
   "source": [
    "Menggunakan konsep yang sama dengan bagian sebelumnya, diperoleh persamaan untuk mencari titik L3 adalah sebagai berikut.\n",
    "\n",
    "$$\n",
    "\\frac{M_1}{(r_{L_3} - r_1)^2} - \\frac{M_2}{(r_{L_3} + r_2)^2} = \\frac{M_1}{R^2 r_2}r_{L_1}\n",
    "$$\n",
    "\n",
    "Asumsikan dugaan awal lokasi titik $L_3$ berada pada jarak yang lebih dari `0.005 AU`. Cara pengerjaan bagian ini sama persis dengan bagian sebelumnya, sehingga Anda sebenarnya cukup mengubah beberapa parameter saja sesuai dengan persamaan di atas."
   ]
  },
  {
   "cell_type": "code",
   "execution_count": null,
   "id": "f6dea4ec",
   "metadata": {},
   "outputs": [],
   "source": [
    "# Definisikan fungsi kiri dan kanan dari persamaan, serta selisih dari kedua fungsi tersebut.\n",
    "# Pastikan satuan yang digunakan sesuai dengan satuan internasional\n",
    "# Jangan lupa untuk melakukan decompose pada akhir persamaan\n",
    "\n",
    "def left(x):\n",
    "    left = # YOUR CODE HERE\n",
    "    return left\n",
    "\n",
    "def right(x):\n",
    "    right = # YOUR CODE HERE\n",
    "    return right\n",
    "\n",
    "def diff(x,y):\n",
    "    diff = # YOUR CODE HERE\n",
    "    return diff"
   ]
  },
  {
   "cell_type": "code",
   "execution_count": null,
   "id": "4c244dcf",
   "metadata": {},
   "outputs": [],
   "source": [
    "# Plot nilai fungsi ruas kiri dan kanan dari persamaan\n",
    "# untuk mendapatkan gambaran awal posisi titik L3\n",
    "\n",
    "# Bentuk array yang memuat 1.000.000 titik dengan jarak yang sama\n",
    "# di antara 0.005 dan 0.025 AU menggunakan fitur linspace pada modul NumPy\n",
    "dist_array = # YOUR CODE HERE\n",
    "\n",
    "plt.grid()\n",
    "plt.plot(dist_array, left(dist_array), linewidth=2, label=\"Ruas kiri\", c=\"red\")\n",
    "plt.plot(dist_array, right(dist_array), linewidth=2, label=\"Ruas kanan\", c=\"black\")\n",
    "plt.xlabel(r\"$r_{L_1}$ (AU)\", fontsize = 14)\n",
    "plt.legend(fontsize = 14)\n",
    "plt.show()"
   ]
  },
  {
   "cell_type": "code",
   "execution_count": null,
   "id": "b27b4154",
   "metadata": {},
   "outputs": [],
   "source": [
    "# Plot kembali nilai fungsi ruas kiri dan kanan dengan batas lebih sempit\n",
    "# untuk mendapatkan gambaran awal posisi titik L3\n",
    "\n",
    "# Anda dapat mendefinisikan batas pada kode di bawah agar proses iterasi lebih efektif\n",
    "dist_new = # YOUR CODE HERE\n",
    "\n",
    "plt.grid()\n",
    "plt.plot(dist_new, left(dist_new), linewidth=2, label=\"Ruas kiri\", c=\"red\")\n",
    "plt.plot(dist_new, right(dist_new), linewidth=2, label=\"Ruas kanan\", c=\"black\")\n",
    "plt.xlabel(r\"$r_{L_1}$ (AU)\", fontsize = 14)\n",
    "plt.legend(fontsize = 14)\n",
    "plt.show()"
   ]
  },
  {
   "cell_type": "code",
   "execution_count": null,
   "id": "2842e0cf",
   "metadata": {
    "scrolled": true
   },
   "outputs": [],
   "source": [
    "# Lakukan iterasi dengan jarak awal sesuai dengan nilai\n",
    "# yang Anda tentukan berdasarkan grafik yang telah dibuat sebelumnya\n",
    "\n",
    "# Masukkan jarak awal dalam satuan AU\n",
    "distance = # YOUR CODE HERE\n",
    "\n",
    "# Masukkan learning rate yang Anda kira sesuai \n",
    "# agar iterasi berjalan dengan efektif\n",
    "learning_rate = # YOUR CODE HERE\n",
    "\n",
    "# Variabel berikut akan melakukan record jumlah iterasi\n",
    "iter = 1\n",
    "\n",
    "# Variabel berikut menentukan batas waktu iterasi\n",
    "time_limit = time() + 360\n",
    "\n",
    "while (time() < time_limit):\n",
    "    # Lengkapi kode berikut untuk menghitung fungsi ruas kiri\n",
    "    left_val = # YOUR CODE HERE\n",
    "    \n",
    "    # Lengkapi kode berikut untuk menghitung fungsi ruas kanan\n",
    "    right_val = # YOUR CODE HERE\n",
    "    \n",
    "    # Lengkapi kode berikut untuk menghitung selisih ruas kiri dan kanan\n",
    "    diffs = # YOUR CODE HERE\n",
    "    \n",
    "    # Program akan mencetak progress setiap 50000 iterasi\n",
    "    if (iter % 50000) == 0:\n",
    "        print(f\"Iteration {iter}: Diff = {diffs}\")\n",
    "    \n",
    "    # Lengkapi syarat untuk menghentikan iterasi\n",
    "    if (# YOUR CODE HERE):\n",
    "        break\n",
    "    \n",
    "    # Iterasi akan dilakukan dengan faktor tambahan\n",
    "    # sebesar learning rate yang telah ditentukan\n",
    "    distance += learning_rate\n",
    "    iter += 1\n",
    "    \n",
    "if (time() < time_limit):\n",
    "    print(f\"\\nProses selesai pada iterasi {iter} dengan selisih {diffs}\")\n",
    "    print(f\"Jarak L3 dari pusat massa adalah {distance}\")\n",
    "else:\n",
    "    print(\"\\nIterasi berjalan terlalu lama. Anda mungkin melompati batas yang ditentukan.\")\n",
    "\n",
    "# Simpan jarak L3 pada variabel distance_L3\n",
    "distance_L3 = distance"
   ]
  },
  {
   "cell_type": "markdown",
   "id": "0f3e5b22",
   "metadata": {},
   "source": [
    "<b>Expected Outputs:</b>\n",
    "<table>\n",
    "    <tr>\n",
    "      <td> <b>Selisih minimum yang mungkin<b></td>\n",
    "      <td> 5.43994140625 </td> \n",
    "    </tr>\n",
    "</table>"
   ]
  },
  {
   "cell_type": "markdown",
   "id": "26eb8f70",
   "metadata": {},
   "source": [
    "<details>\n",
    "    <summary><font size=3 color=\"darkgreen\"><b>Click for hints</b></font></summary>\n",
    "\n",
    "* Tentukan jarak awal yang cukup dekat dengan titik potong di grafik. Anda dapat mengatur batas grafik dari `0.019 AU` hingga `0.020 AU`.\n",
    "    \n",
    "* Jika proses iterasi berlangsung terlalu lama, misalnya lebih dari 5 menit, ada kemungkinan program Anda melompati batas selisih yang ditentukan.\n",
    "    \n",
    "<details>\n",
    "          <summary><font size=\"2\" color=\"darkblue\"><b>Bagaimana jika proses iterasi tidak selesai?</b></font></summary>\n",
    "        \n",
    "  - Anda dapat memulai iterasi dengan jarak awal `0.0195 AU`, namun nilai tersebut tidak menghasilkan iterasi yang efektif. Silakan cari nilai jarak awal sehingga proses iterasi lebih efektif.\n",
    "    \n",
    "<details>\n",
    "          <summary><font size=\"2\" color=\"darkblue\"><b>Klik menu berikut jika sudah putus asa</b></font></summary>\n",
    "        \n",
    "  - Nilai berikut dapat Anda pilih untuk memulai iterasi. Proses yang dijalankan tidak terlalu efektif dan memakan waktu yang lama, sehingga Anda tetap dianjurkan untuk menentukan sendiri nilai yang digunakan.\n",
    "    \n",
    "    `distance = 0.01958 * u.AU`\n",
    "    \n",
    "    `learning_rate = 1E-13`\n",
    "    \n",
    "    </details>\n",
    "    \n",
    "    </details>\n",
    "    \n",
    "</details>"
   ]
  },
  {
   "cell_type": "markdown",
   "id": "df9246cf",
   "metadata": {},
   "source": [
    "### Problem 1.3: Menentukan galat absolut"
   ]
  },
  {
   "cell_type": "markdown",
   "id": "ad831cd9",
   "metadata": {},
   "source": [
    "Setelah Anda menentukan posisi L1 dan L3 dari sistem bintang CT Eri dan memasukkannya ke dalam variabel `distance_L1` dan `distance_L3`, Anda dapat menghitung galat absolut dari posisi L1 dan L3 dari perhitungan numerik dan analitik. Persamaan di bawah ini dapat digunakan untuk menentukan galat absolut ($\\epsilon$) dari perhitungan analitik dan numerik.\n",
    "\n",
    "$$\n",
    "\\epsilon = \\frac{|r_{numerik}-r_{analitik}|}{r_{numerik}}\n",
    "$$\n",
    "\n",
    "Dari penurunan persamaan titik Lagrange yang telah dipelajari di kelas, diperoleh jarak untuk $L_1$ dan $L_3$ dapat dinyatakan sebagai berikut.\n",
    "\n",
    "$$\n",
    "r_{L_1} = r_2 \\left[\\frac{M_2}{M_1 + M_2} - \\left(\\frac{M_2}{3M_1 + M_2}\\right)^{1/3}\\right] \\\\\n",
    "r_{L_3} = a \\left[1 + \\frac{5}{12} \\frac{M_2}{M_1 + M_2}\\right]\n",
    "$$"
   ]
  },
  {
   "cell_type": "code",
   "execution_count": null,
   "id": "2dee4f0b",
   "metadata": {},
   "outputs": [],
   "source": [
    "# Definisikan fungsi analitik untuk menghitung jarak L1 dan L3\n",
    "# Jangan lupa untuk melakukan decompose pada akhir persamaan\n",
    "\n",
    "L1_analytic = # YOUR CODE HERE\n",
    "L3_analytic = # YOUR CODE HERE\n",
    "\n",
    "print(f\"Jarak L1 dari pusat massa dengan metode analitik adalah {L1_analytic:.7f}\")\n",
    "print(f\"Jarak L3 dari pusat massa dengan metode analitik adalah {L3_analytic:.7f}\")"
   ]
  },
  {
   "cell_type": "markdown",
   "id": "7d8aa40a",
   "metadata": {},
   "source": [
    "<b>Expected Outputs:</b>\n",
    "<table>\n",
    "    <tr>\n",
    "      <td> <b>Jarak L1<b></td>\n",
    "      <td> 0.0078441 AU </td> \n",
    "    </tr>\n",
    "    <tr>\n",
    "      <td> <b>Jarak L3<b></td>\n",
    "      <td> 0.0203101 AU </td> \n",
    "    </tr>\n",
    "</table>"
   ]
  },
  {
   "cell_type": "code",
   "execution_count": null,
   "id": "52ca244b",
   "metadata": {},
   "outputs": [],
   "source": [
    "# Lengkapi kode di bawah ini untuk menghitung galat absolut dari jarak L1 dan L3\n",
    "L1_err = # YOUR CODE HERE\n",
    "L3_err = # YOUR CODE HERE\n",
    "\n",
    "print(f\"Galat perhitungan L1 adalah {L1_err} atau {(L1_err*100):.3f}%\")\n",
    "print(f\"Galat perhitungan L3 adalah {L3_err} atau {(L3_err*100):.3f}%\")"
   ]
  },
  {
   "cell_type": "markdown",
   "id": "e44a2298",
   "metadata": {},
   "source": [
    "<b>Expected Outputs:</b>\n",
    "<table>\n",
    "    <tr>\n",
    "      <td> <b>Galat L1<b></td>\n",
    "      <td> < 10% </td> \n",
    "    </tr>\n",
    "    <tr>\n",
    "      <td> <b>Galat L3<b></td>\n",
    "      <td> < 5% </td> \n",
    "    </tr>\n",
    "</table>"
   ]
  }
 ],
 "metadata": {
  "kernelspec": {
   "display_name": "Python 3 (ipykernel)",
   "language": "python",
   "name": "python3"
  },
  "language_info": {
   "codemirror_mode": {
    "name": "ipython",
    "version": 3
   },
   "file_extension": ".py",
   "mimetype": "text/x-python",
   "name": "python",
   "nbconvert_exporter": "python",
   "pygments_lexer": "ipython3",
   "version": "3.11.3"
  }
 },
 "nbformat": 4,
 "nbformat_minor": 5
}
