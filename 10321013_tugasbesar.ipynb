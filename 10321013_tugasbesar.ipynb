{
  "nbformat": 4,
  "nbformat_minor": 0,
  "metadata": {
    "colab": {
      "private_outputs": true,
      "provenance": [],
      "collapsed_sections": [
        "0b160c4a",
        "1bee1c77",
        "6b8c51d9",
        "b272e43a",
        "d8507816",
        "d2d96368",
        "df9246cf",
        "356e1c3e",
        "c0a8cc79",
        "a02293b7",
        "020012ea"
      ],
      "authorship_tag": "ABX9TyOSwDYcboNenJkaZPfrlaRR",
      "include_colab_link": true
    },
    "kernelspec": {
      "name": "python3",
      "display_name": "Python 3"
    },
    "language_info": {
      "name": "python"
    },
    "accelerator": "TPU"
  },
  "cells": [
    {
      "cell_type": "markdown",
      "metadata": {
        "id": "view-in-github",
        "colab_type": "text"
      },
      "source": [
        "<a href=\"https://colab.research.google.com/github/Sulthon-Araska/Lagrange-Points_Zero-Velocity-Surface/blob/main/10321013_tugasbesar.ipynb\" target=\"_parent\"><img src=\"https://colab.research.google.com/assets/colab-badge.svg\" alt=\"Open In Colab\"/></a>"
      ]
    },
    {
      "cell_type": "markdown",
      "metadata": {
        "id": "0b160c4a"
      },
      "source": [
        "# Tugas Akhir AS3111 Mekanika Benda Langit\n",
        "\n",
        "Batas pengumpulan: **4 Desember 2023, pukul 23.59 WIB.**"
      ]
    },
    {
      "cell_type": "markdown",
      "metadata": {
        "id": "3c5cbf41"
      },
      "source": [
        "Nama: **Sulthon Furqandhani Araska**\n",
        "\n",
        "NIM: **10321013**"
      ]
    },
    {
      "cell_type": "markdown",
      "metadata": {
        "id": "1bee1c77"
      },
      "source": [
        "## 1. Penjelasan Tugas"
      ]
    },
    {
      "cell_type": "markdown",
      "metadata": {
        "id": "743589bc"
      },
      "source": [
        "Pada tugas ini, kita akan melakukan konstruksi dari titik Lagrange yang muncul pada sistem tiga benda menggunakan sistem bintang yang diperoleh dari **(Deb, 2011)**. Dari artikel tersebut, data yang akan digunakan adalah periode, massa total sistem bintang, dan rasio massa dari kedua bintang yang menjadi anggota dari sistem <b>CT Eri</b>. Setelahnya, kita akan menyusun plot <b>ZVC <i>(Zero Velocity Contour)</i></b> sistem bintang CT Eri dan sistem planet tata surya menggunakan <i>resources</i> dari <i>website</i> milik Ridlo Wibowo.\n",
        "\n",
        "Tugas anda adalah mengisi bagian dari kode yang ditandai oleh tulisan <code># YOUR CODE HERE</code>. Anda tidak perlu mengubah bagian lain dari dokumen ini yang tidak ditandai karena seluruh langkah yang diperlukan sudah diberikan pada penjelasan sebelum blok kode yang bersesuaian. Apabila anda merasa kesulitan, terdapat <i><b>hint</b></i> untuk memudahkan pengerjaan, namun Anda diharap untuk melihat <i>hint</i> yang diberikan <b>hanya pada saat benar-benar tidak memiliki ide</b> untuk melanjutkan pengerjaan tugas ini.\n",
        "\n",
        "Untuk memastikan apakah pekerjaan anda sesuai dengan yang diharapkan, telah disediakan <b><i>expected outputs</i></b> setelah blok kode yang bersesuaian. Hasil yang ditampilkan mungkin akan sedikit berbeda dikarenakan oleh ketelitian program."
      ]
    },
    {
      "cell_type": "markdown",
      "metadata": {
        "id": "6b8c51d9"
      },
      "source": [
        "## 2. Persiapan Tugas"
      ]
    },
    {
      "cell_type": "markdown",
      "metadata": {
        "id": "2a3be42e"
      },
      "source": [
        "Beberapa modul perlu kita <i>import</i> untuk mengerjakan tugas ini. Berikut adalah beberapa di antaranya:\n",
        "\n",
        "* [NumPy](https://numpy.org/doc/) digunakan sebagai modul untuk melakukan perhitungan pada Python.\n",
        "* [Matplotlib PyPlot](https://matplotlib.org/3.5.3/api/_as_gen/matplotlib.pyplot.html) untuk membuat grafik numerik pada program Python.\n",
        "* [AstroPy](https://docs.astropy.org/en/stable/) yang biasa digunakan untuk melakukan perhitungan berbasis astronomi pada program Python. Klik untuk melihat dokumentasi submodul [astropy.constants](https://docs.astropy.org/en/stable/constants/) dan [astropy.units](https://docs.astropy.org/en/stable/units/).\n",
        "\n",
        "Seharusnya Anda sudah cukup familiar dengan penggunaan NumPy dan Matplotlib sehingga tidak perlu ada penjelasan lebih mendetail terkait kedua modul tersebut. Penggunaan AstroPy pada tugas kali ini bertujuan untuk memudahkan pengerjaan yang berkaitan dengan konstanta dan besaran dalam astronomi. Kita akan menggunakan submodul <code>constants</code> untuk menyatakan konstanta astronomis yang digunakan dan submodul <code>units</code> untuk menyatakan besaran satuan astronomis."
      ]
    },
    {
      "cell_type": "code",
      "execution_count": null,
      "metadata": {
        "id": "0c04612a"
      },
      "outputs": [],
      "source": [
        "# DO NOT EDIT THIS BLOCK\n",
        "\n",
        "# Import modul yang diperlukan untuk pengerjaan tugas akhir\n",
        "import numpy as np\n",
        "import matplotlib.pyplot as plt\n",
        "from astropy import constants as const\n",
        "from astropy import units as u\n",
        "from time import time\n",
        "\n",
        "# Atur parameter untuk modul Matplotlib\n",
        "plt.rcParams[\"figure.figsize\"] = [10,7]\n",
        "plt.rcParams['savefig.dpi'] = 500"
      ]
    },
    {
      "cell_type": "markdown",
      "metadata": {
        "id": "b272e43a"
      },
      "source": [
        "## 3. Problem 1: Menentukan Titik Lagrange"
      ]
    },
    {
      "cell_type": "markdown",
      "metadata": {
        "id": "722c1f8c"
      },
      "source": [
        "Penentuan titik Lagrange sebenarnya sudah pernah dilakukan pada materi yang diajarkan di kelas. Namun, penentuan titik Langrange sebelumnya dilakukan dengan beberapa asumsi penting seperti $M_1 >> M_2$ dan $x << a$. Sementara itu, penentuan radius Roche Lobe pada bintang ganda dekat tidak dapat menggunakan asumsi yang sama dikarenakan rasio massa yang besar dan jarak titik Lagrange terhadap jejari orbit yang tidak dapat diabaikan lagi. Berikut adalah ilustrasi penentuan posisi titik Lagrange L1 beserta gaya yang bersesuaian.\n",
        "\n",
        "![Diagram ilustrasi titik Lagrange L1](lagrange.png)\n",
        "\n",
        "Dari gambar yang terdapat pada bagian sebelumnya, kita dapat menyusun persamaan gerak untuk benda yang berada di titik $L_1$ dengan membuat hubungan antara percepatan gravitasi akibat $M_1$ ($g_1$), $M_2$ ($g_2$), dan percepatan sentrifugal $a_c$, untuk $L_1$ maka didapatkan persamaan di bawah. Anda dapat melihat penurunan secara lebih detail pada dokumen yang tertera pada folder ini.\n",
        "\n",
        "$$\n",
        "\\frac{M_1}{(r_1 + r_{L_1})^2} - \\frac{M_2}{(r_2 - r_{L_1})^2} = \\frac{M_1}{R^2 r_2}r_{L_1}\n",
        "$$\n",
        "\n",
        "Seluruh parameter sebelumnya bisa ditentukan dari Hukum Kepler, kecuali $r_{L1}$, sehingga dilakukan iterasi hingga menghasilkan kurva di bawah ini.\n",
        "\n",
        "![Kurva persamaan](diff_curve.png)"
      ]
    },
    {
      "cell_type": "markdown",
      "metadata": {
        "id": "4d3d715f"
      },
      "source": [
        "Dari artikel yang telah disebut sebelumnya, kita akan mengambil data dari sistem bintang **CT Eri** dengan nilai parameter sebagai berikut.\n",
        "\n",
        "**Nama** : CT Eri\n",
        "\n",
        "**Periode** : $0.63419$ hari\n",
        "\n",
        "**Massa total ($M_{\\odot}$)** : $2.110$\n",
        "\n",
        "**Rasio massa ($q$)** : $0.30$\n",
        "\n",
        "Pada blok kode berikutnya, Anda diminta untuk memasukkan besaran tersebut pada variabel yang bersesuaian."
      ]
    },
    {
      "cell_type": "code",
      "execution_count": null,
      "metadata": {
        "id": "1b56cc0e"
      },
      "outputs": [],
      "source": [
        "# Inisialisasi parameter sistem bintang CT Eri\n",
        "# Pastikan Anda menambahkan satuan yang sesuai menggunakan modul astropy.units\n",
        "period = 0.63419*u.d\n",
        "total_mass = 2.110*u.Msun\n",
        "mass_ratio = 0.30\n",
        "\n",
        "print(\"P = {}\\nM = {}\\nq = {}\".format(period, total_mass, mass_ratio))"
      ]
    },
    {
      "cell_type": "markdown",
      "metadata": {
        "id": "783e17bb"
      },
      "source": [
        "<b>Expected Outputs:</b>\n",
        "\n",
        "    P = 0.63419 d\n",
        "    M = 2.11 solMass\n",
        "    q = 0.3"
      ]
    },
    {
      "cell_type": "markdown",
      "metadata": {
        "id": "100b856e"
      },
      "source": [
        "<details>\n",
        "  <summary><font size=\"3\" color=\"darkgreen\"><b>Click for hints</b></font></summary>\n",
        "       \n",
        "   * Anda dapat menambahkan besaran hari dan massa Matahari dengan mengetikkan kode <code>u.d</code> dan <code>u.solMass</code>.\n",
        "\n",
        "<details>\n",
        "          <summary><font size=\"2\" color=\"darkblue\"><b> Click for more hints</b></font></summary>\n",
        "        \n",
        "  - Berikut adalah kode yang dapat digunakan untuk menambahkan satuan hari ke dalam variabel.\n",
        "    \n",
        "    `variable = value * u.d`\n",
        "\n",
        "    Dengan menggunakan kode yang serupa, Anda dapat menambahkan berbagai satuan lain ke dalam variabel.\n",
        "    \n",
        "    </details>\n",
        "\n",
        "\n",
        "</details>"
      ]
    },
    {
      "cell_type": "markdown",
      "metadata": {
        "id": "d8507816"
      },
      "source": [
        "### Problem 1.1: Menentukan posisi titik Lagrange L1"
      ]
    },
    {
      "cell_type": "markdown",
      "metadata": {
        "id": "86f0d6e3"
      },
      "source": [
        "Hal pertama yang dapat dilakukan adalah menghitung jarak pisah (sumbu semi-mayor) dari sistem bintang CT Eri menggunakan Hukum III Kepler. Pada blok kode berikutnya, Anda diminta untuk melengkapi persamaan Hukum III Kepler menggunakan variabel yang telah dinyatakan sebelumnya."
      ]
    },
    {
      "cell_type": "code",
      "execution_count": null,
      "metadata": {
        "id": "51755df9"
      },
      "outputs": [],
      "source": [
        "# Definisikan fungsi untuk persamaan Hukum III Kepler\n",
        "# Jangan lupa untuk menyesuaikan besaran menggunakan modul astropy.units pada fungsi yang dibuat\n",
        "# Anda dapat menggunakan modul astropy.constants untuk menuliskan konstanta yang diperlukan\n",
        "\n",
        "def KeplerIII(period):\n",
        "    a = np.cbrt((const.G*total_mass)*(period**2)/(4*(np.pi**2)))\n",
        "    return a"
      ]
    },
    {
      "cell_type": "markdown",
      "metadata": {
        "id": "d3cb0fec"
      },
      "source": [
        "Dari fungsi tersebut, kita nyatakan nilai sumbu semi-mayor sistem bintang, <code>a</code>, dengan memanfaatkan properti <code>decompose</code> untuk menyederhanakan satuan yang dihasilkan, kemudian kita ubah besarannya menjadi AU."
      ]
    },
    {
      "cell_type": "code",
      "execution_count": null,
      "metadata": {
        "id": "0ac2aaba"
      },
      "outputs": [],
      "source": [
        "semi_major_axis = KeplerIII(period).decompose().to(u.AU)\n",
        "\n",
        "print(\"a = {:.4}\".format(semi_major_axis))"
      ]
    },
    {
      "cell_type": "markdown",
      "metadata": {
        "id": "539ae3c8"
      },
      "source": [
        "<b>Expected Output:</b>\n",
        "\n",
        "    a = 0.01853 AU"
      ]
    },
    {
      "cell_type": "markdown",
      "metadata": {
        "id": "e655d2ac"
      },
      "source": [
        "<details>\n",
        "    <summary><font size=\"3\" color=\"darkgreen\"><b>Click for hints</b></font></summary>\n",
        "  \n",
        "* Berikut adalah persamaan yang dapat Anda gunakan untuk merumuskan Hukum III Kepler.\n",
        "    \n",
        "$$\n",
        "a = \\left({\\frac{GM}{4\\pi^2}} P^2\\right)^{1/3}\n",
        "$$\n",
        "    \n",
        "</details>"
      ]
    },
    {
      "cell_type": "markdown",
      "metadata": {
        "id": "28e53a60"
      },
      "source": [
        "Selanjutnya, Anda dapat dengan mudah menghitung massa dari masing-masing komponen CT Eri beserta dengan jarak dari setiap komponen ke pusat massa sistem. Anda dapat memanfaatkan pengetahuan tentang radius massa untuk menurunkan massa dari setiap komponen. Perlu diingat, bahwa orbit komponen dengan massa yang lebih besar akan berada lebih dekat dengan pusat massa."
      ]
    },
    {
      "cell_type": "code",
      "execution_count": null,
      "metadata": {
        "id": "68316477"
      },
      "outputs": [],
      "source": [
        "# Hitung massa tiap komponen dengan memanfaatkan variabel\n",
        "# rasio massa yang telah dinyatakan sebelumnya\n",
        "mass_1 = (1/(1+mass_ratio))*total_mass\n",
        "mass_2 = total_mass - mass_1\n",
        "\n",
        "# Kemudian, hitung jarak setiap komponen CT Eri dari pusat massa\n",
        "# dengan menggunakan cara yang sama seperti penentuan massa komponen\n",
        "# Ingat massa berbanding terbalik dengan jarak (radius)\n",
        "radius_1 = (mass_2/total_mass)*semi_major_axis\n",
        "radius_2 = semi_major_axis - radius_1\n",
        "\n",
        "# Lihat nilai massa dan jarak dari setiap komponen\n",
        "print(f\"M1 = {mass_1:.5f}\\nM2 = {mass_2:.5f}\\nr1 = {radius_1:.5f}\\nr2 = {radius_2:.5f}\")"
      ]
    },
    {
      "cell_type": "markdown",
      "metadata": {
        "id": "cb2697b6"
      },
      "source": [
        "<b>Expected Outputs:</b>\n",
        "\n",
        "    M1 = 1.62308 solMass\n",
        "    M2 = 0.48692 solMass\n",
        "    r1 = 0.00428 AU\n",
        "    r2 = 0.01425 AU"
      ]
    },
    {
      "cell_type": "markdown",
      "metadata": {
        "id": "f4bd6c35"
      },
      "source": [
        "<details>\n",
        "    <summary><font size=3 color=\"darkgreen\"><b>Click for hints</b></font></summary>\n",
        "  \n",
        "* Turunkan persamaan untuk massa dari setiap komponen dengan memanfaatkan dua persamaan di bawah ini.\n",
        "    \n",
        "$$\n",
        "M = M_1 + M_2 \\\\\n",
        "q = \\frac{M_2}{M_1}\n",
        "$$\n",
        "\n",
        "* Persamaan untuk radius tiap komponen dapat diturunkan dengan cara yang sama, namun perlu diingat bahwa jarak berbanding terbalik dengan massa.\n",
        "    \n",
        "</details>"
      ]
    },
    {
      "cell_type": "markdown",
      "metadata": {
        "id": "63cb37d7"
      },
      "source": [
        "Dari persamaan yang telah diturunkan, posisi titik Lagrange L1 dapat ditaksir secara kasar dengan menentukan posisi dimana selisih dari ruas kiri dan kanan persamaan mendekati nol. Hal tersebut harus dilakukan secara numerik dikarenakan nilai $r_{L_1}$ harus ditentukan secara iteratif. Pada blok kode berikutnya, Anda diminta untuk melengkapi fungsi persamaan ruas kiri, kanan, dan selisih dari kedua ruas tersebut."
      ]
    },
    {
      "cell_type": "code",
      "execution_count": null,
      "metadata": {
        "id": "b7eef5c5"
      },
      "outputs": [],
      "source": [
        "# Definisikan fungsi kiri dan kanan dari persamaan, serta selisih dari kedua fungsi tersebut.\n",
        "# Pastikan satuan yang digunakan sesuai dengan satuan internasional\n",
        "# Jangan lupa untuk melakukan decompose pada akhir persamaan\n",
        "\n",
        "def left(x):\n",
        "    left = ((mass_1/(radius_1 + x)**2) - (mass_2/(radius_2 - x)**2)).decompose()\n",
        "    return left\n",
        "\n",
        "def right(x):\n",
        "    right = ((mass_1*x)/(radius_2*(semi_major_axis**2))).decompose()\n",
        "    return right\n",
        "\n",
        "def diff(x,y):\n",
        "    diff = abs(x-y).decompose()\n",
        "    return diff"
      ]
    },
    {
      "cell_type": "markdown",
      "metadata": {
        "id": "362028f4"
      },
      "source": [
        "<details>\n",
        "    <summary><font size=3 color=\"darkgreen\"><b>Click for hints</b></font></summary>\n",
        "  \n",
        "* Untuk mempermudah, berikut diberikan kembali persamaan yang telah dituliskan sebelumnya.\n",
        "    \n",
        "$$\n",
        "\\frac{M_1}{(r_1 + r_{L_1})^2} - \\frac{M_2}{(r_2 - r_{L_1})^2} = \\frac{M_1}{R^2 r_2}r_{L_1}\n",
        "$$\n",
        "\n",
        "* Jangan lupa untuk menambahkan fitur `decompose` pada akhir persamaan untuk menyederhanakan hasil yang diperoleh.\n",
        "    \n",
        "<details>\n",
        "          <summary><font size=\"2\" color=\"darkblue\"><b> Click for more hints</b></font></summary>\n",
        "        \n",
        "  - Nilai `x` pada fungsi `left` dan `right` nantinya akan disubstitusi oleh $r_{L_1}$, sehingga Anda cukup menuliskan `x` setiap menemukan variabel $r_{L_1}$ pada persamaan di atas.\n",
        "    \n",
        "    </details>\n",
        "    \n",
        "</details>"
      ]
    },
    {
      "cell_type": "markdown",
      "metadata": {
        "id": "44586f92"
      },
      "source": [
        "Anda sudah mendefinisikan fungsi yang diperlukan untuk menentukan posisi titik Lagrange L1 dari sistem bintang CT Eri. Selanjutnya, kita perlu membuat grafik yang menunjukkan nilai percepatan dari ruas kiri dan kanan persamaan terhadap jarak titik Lagrange L1 untuk mempermudah proses awal dalam menentukan posisi titik L1."
      ]
    },
    {
      "cell_type": "code",
      "execution_count": null,
      "metadata": {
        "id": "c44b320b"
      },
      "outputs": [],
      "source": [
        "# Plot nilai fungsi ruas kiri dan kanan dari persamaan\n",
        "# untuk mendapatkan gambaran awal posisi titik L1\n",
        "\n",
        "# Bentuk array yang memuat 1.000.000 titik dengan jarak yang sama\n",
        "# di antara 0 dan 0.0125 AU menggunakan fitur linspace pada modul NumPy\n",
        "dist_array = np.linspace(0.0, 0.0125, 10**6)*u.AU\n",
        "\n",
        "plt.grid()\n",
        "plt.plot(dist_array, left(dist_array), linewidth=2, label=\"Ruas kiri\", c=\"red\")\n",
        "plt.plot(dist_array, right(dist_array), linewidth=2, label=\"Ruas kanan\", c=\"black\")\n",
        "plt.xlabel(r\"$r_{L_1}$ (AU)\", fontsize = 14)\n",
        "plt.legend(fontsize = 14)\n",
        "plt.show()"
      ]
    },
    {
      "cell_type": "code",
      "execution_count": null,
      "metadata": {
        "id": "7f4cb4ce"
      },
      "outputs": [],
      "source": [
        "# Plot kembali nilai fungsi ruas kiri dan kanan dengan batas lebih sempit\n",
        "# untuk mendapatkan gambaran awal posisi titik L1\n",
        "\n",
        "# Anda dapat mendefinisikan batas pada kode di bawah agar proses iterasi lebih efektif\n",
        "dist_new = np.linspace(0.007227941214, 0.007227941215, 10**6)*u.AU\n",
        "\n",
        "plt.grid()\n",
        "plt.plot(dist_new, left(dist_new), linewidth=2, label=\"Ruas kiri\", c=\"red\")\n",
        "plt.plot(dist_new, right(dist_new), linewidth=2, label=\"Ruas kanan\", c=\"black\")\n",
        "plt.xlabel(r\"$r_{L_1}$ (AU)\", fontsize = 14)\n",
        "plt.legend(fontsize = 14)\n",
        "plt.show()"
      ]
    },
    {
      "cell_type": "markdown",
      "metadata": {
        "id": "5a320295"
      },
      "source": [
        "Dari grafik yang telah Anda buat sebelumnya, definisikan batas awal yang menurut Anda mendekati nilai jarak dimana selisih percepatan mendekati nol. Selanjutnya, kita akan lakukan iterasi dengan menghitung fungsi ruas kiri dan kanan, serta selisih dari ruas kiri dan kanan yang telah dihitung sebelumnya. Proses iterasi terdiri dari beberapa tahap sebagai berikut:\n",
        "\n",
        "* Inisiasi variabel `distance` sesuai dengan batas awal yang telah ditentukan dari grafik.\n",
        "* Inisiasi `learning_rate` yang akan digunakan sebagai faktor iterasi. Nilai `learning_rate` akan ditambahkan ke variabel `distance` pada setiap iterasi.\n",
        "* Nyatakan fungsi `left_val` dan `right_val` untuk menghitung fungsi ruas kiri dan kanan secara berturut-turut. Anda dapat menggunakan fungsi yang telah didefinisikan sebelumnya.\n",
        "* Hitung selisih fungsi ruas kanan dan kiri menggunakan variabel `diffs`. Perhatikan bahwa selisih bisa bernilai negatif atau positif sehingga Anda perlu melakukan sedikit modifikasi pada perhitungan yang dilakukan.\n",
        "* Program akan melakukan iterasi hingga selisih yang ditemukan lebih kecil dibandingkan dengan selisih batas yang telah ditentukan. Nilai selisih yang diterima adalah kurang dari **10 kg/m^2**. Anda dapat menentukan batas yang lebih besar, namun Anda hanya mendapat sebagian nilai untuk blok kode di bawah ini."
      ]
    },
    {
      "cell_type": "code",
      "execution_count": null,
      "metadata": {
        "id": "13421f80",
        "scrolled": true
      },
      "outputs": [],
      "source": [
        "# Lakukan iterasi dengan jarak awal sesuai dengan nilai\n",
        "# yang Anda tentukan berdasarkan grafik yang telah dibuat sebelumnya\n",
        "\n",
        "# Masukkan jarak awal dalam satuan AU\n",
        "distance = 0.0072279412143*u.AU\n",
        "\n",
        "# Masukkan learning rate yang Anda kira sesuai\n",
        "# agar iterasi berjalan dengan efektif\n",
        "learning_rate = (1e-14)*u.AU\n",
        "\n",
        "# Variabel berikut akan melakukan record jumlah iterasi\n",
        "iter = 1\n",
        "\n",
        "# Variabel berikut menentukan batas waktu iterasi\n",
        "start_time = time()\n",
        "time_limit = start_time + 360\n",
        "\n",
        "while (time() < time_limit):\n",
        "    # Lengkapi kode berikut untuk menghitung fungsi ruas kiri\n",
        "    left_val = left(distance + learning_rate)\n",
        "\n",
        "    # Lengkapi kode berikut untuk menghitung fungsi ruas kanan\n",
        "    right_val = right(distance + learning_rate)\n",
        "\n",
        "    # Lengkapi kode berikut untuk menghitung selisih ruas kiri dan kanan\n",
        "    diffs = diff(left_val, right_val)\n",
        "\n",
        "    # Program akan mencetak progress setiap 50000 iterasi\n",
        "    if (iter % 50000) == 0:\n",
        "        print(f\"Iteration {iter}: Diff = {diffs}, Time Elapsed = {(time() - start_time):.3f} s\")\n",
        "\n",
        "    # Lengkapi syarat untuk menghentikan iterasi\n",
        "    if diffs < 10*(u.kg/(u.meter)**2).decompose():\n",
        "        break\n",
        "\n",
        "    # Iterasi akan dilakukan dengan faktor tambahan\n",
        "    # sebesar learning rate yang telah ditentukan\n",
        "    distance += learning_rate\n",
        "    iter += 1\n",
        "\n",
        "if (time() < time_limit):\n",
        "    print(f\"\\nProses selesai pada iterasi {iter} dengan selisih {diffs}\")\n",
        "    print(f\"Jarak L1 dari pusat massa adalah {distance}\")\n",
        "else:\n",
        "    print(\"\\nIterasi berjalan terlalu lama. Anda mungkim melompati batas yang ditentukan.\")\n",
        "\n",
        "# Simpan jarak L1 pada variabel distance_L1\n",
        "distance_L1 = distance"
      ]
    },
    {
      "cell_type": "markdown",
      "metadata": {
        "id": "d50da918"
      },
      "source": [
        "<b>Expected Output:</b>\n",
        "<table>\n",
        "    <tr>\n",
        "      <td> <b>Selisih kedua ruas<b></td>\n",
        "      <td> < 10 </td>\n",
        "    </tr>\n",
        "</table>"
      ]
    },
    {
      "cell_type": "markdown",
      "metadata": {
        "id": "cf232de3"
      },
      "source": [
        "<details>\n",
        "    <summary><font size=3 color=\"darkgreen\"><b>Click for hints</b></font></summary>\n",
        "\n",
        "* Tentukan jarak awal yang cukup dekat dengan titik potong di grafik. Anda dapat mengatur batas grafik dari `0.006 AU` hingga `0.008 AU`.\n",
        "    \n",
        "* Jika proses iterasi berlangsung terlalu lama, misalnya lebih dari 5 menit, ada kemungkinan program Anda melewati melompati batas selisih yang ditentukan.\n",
        "    \n",
        "<details>\n",
        "          <summary><font size=\"2\" color=\"darkblue\"><b>Bagaimana jika proses iterasi tidak selesai?</b></font></summary>\n",
        "        \n",
        "  - Anda dapat memulai iterasi dengan jarak awal `0.007 AU`, namun nilai tersebut tidak menghasilkan iterasi yang efektif. Silakan cari nilai jarak awal sehingga proses iterasi lebih efektif.\n",
        "    \n",
        "<details>\n",
        "          <summary><font size=\"2\" color=\"darkblue\"><b>Klik menu berikut jika sudah putus asa</b></font></summary>\n",
        "        \n",
        "  - Nilai berikut dapat Anda pilih untuk memulai iterasi. Proses yang dijalankan tidak terlalu efektif dan memakan waktu yang lama, sehingga Anda tetap dianjurkan untuk menentukan sendiri nilai yang digunakan.\n",
        "    \n",
        "    `distance = 0.0072 * u.AU`\n",
        "    \n",
        "    `learning_rate = 1E-15`\n",
        "    \n",
        "    </details>\n",
        "    \n",
        "    </details>\n",
        "    \n",
        "</details>"
      ]
    },
    {
      "cell_type": "markdown",
      "metadata": {
        "id": "d2d96368"
      },
      "source": [
        "### Problem 1.2: Menentukan posisi titik Lagrange L3"
      ]
    },
    {
      "cell_type": "markdown",
      "metadata": {
        "id": "39b53068"
      },
      "source": [
        "Menggunakan konsep yang sama dengan bagian sebelumnya, diperoleh persamaan untuk mencari titik L3 adalah sebagai berikut.\n",
        "\n",
        "$$\n",
        "\\frac{M_1}{(r_{L_3} - r_1)^2} + \\frac{M_2}{(r_{L_3} + r_2)^2} = \\frac{M_1}{R^2 r_2}r_{L_3}\n",
        "$$\n",
        "\n",
        "Asumsikan dugaan awal lokasi titik $L_3$ berada pada jarak yang lebih dari `0.005 AU`. Cara pengerjaan bagian ini sama persis dengan bagian sebelumnya, sehingga Anda sebenarnya cukup mengubah beberapa parameter saja sesuai dengan persamaan di atas."
      ]
    },
    {
      "cell_type": "code",
      "execution_count": null,
      "metadata": {
        "id": "f6dea4ec"
      },
      "outputs": [],
      "source": [
        "# Definisikan fungsi kiri dan kanan dari persamaan, serta selisih dari kedua fungsi tersebut.\n",
        "# Pastikan satuan yang digunakan sesuai dengan satuan internasional\n",
        "# Jangan lupa untuk melakukan decompose pada akhir persamaan\n",
        "\n",
        "def left(x):\n",
        "    left = ((mass_1/(x - radius_1)**2) + (mass_2/(x + radius_2)**2)).decompose()\n",
        "    return left\n",
        "\n",
        "def right(x):\n",
        "    right = ((mass_1*x)/(radius_2*(semi_major_axis**2))).decompose()\n",
        "    return right\n",
        "\n",
        "def diff(x,y):\n",
        "    diff = abs(x-y).decompose()\n",
        "    return diff"
      ]
    },
    {
      "cell_type": "code",
      "execution_count": null,
      "metadata": {
        "id": "4c244dcf"
      },
      "outputs": [],
      "source": [
        "# Plot nilai fungsi ruas kiri dan kanan dari persamaan\n",
        "# untuk mendapatkan gambaran awal posisi titik L3\n",
        "\n",
        "# Bentuk array yang memuat 1.000.000 titik dengan jarak yang sama\n",
        "# di antara 0.005 dan 0.025 AU menggunakan fitur linspace pada modul NumPy\n",
        "dist_array = np.linspace(0.005, 0.025, 10**6)*u.au\n",
        "\n",
        "plt.grid()\n",
        "plt.plot(dist_array, left(dist_array), linewidth=2, label=\"Ruas kiri\", c=\"red\")\n",
        "plt.plot(dist_array, right(dist_array), linewidth=2, label=\"Ruas kanan\", c=\"black\")\n",
        "plt.xlabel(r\"$r_{L_3}$ (AU)\", fontsize = 14)\n",
        "plt.legend(fontsize = 14)\n",
        "plt.show()"
      ]
    },
    {
      "cell_type": "code",
      "execution_count": null,
      "metadata": {
        "id": "b27b4154"
      },
      "outputs": [],
      "source": [
        "# Plot kembali nilai fungsi ruas kiri dan kanan dengan batas lebih sempit\n",
        "# untuk mendapatkan gambaran awal posisi titik L3\n",
        "\n",
        "# Anda dapat mendefinisikan batas pada kode di bawah agar proses iterasi lebih efektif\n",
        "dist_new = np.linspace(0.02029577490, 0.02029577495, 10**6)*u.AU\n",
        "\n",
        "plt.grid()\n",
        "plt.plot(dist_new, left(dist_new), linewidth=2, label=\"Ruas kiri\", c=\"red\")\n",
        "plt.plot(dist_new, right(dist_new), linewidth=2, label=\"Ruas kanan\", c=\"black\")\n",
        "plt.xlabel(r\"$r_{L_3}$ (AU)\", fontsize = 14)\n",
        "plt.legend(fontsize = 14)\n",
        "plt.show()"
      ]
    },
    {
      "cell_type": "code",
      "execution_count": null,
      "metadata": {
        "id": "2842e0cf",
        "scrolled": true
      },
      "outputs": [],
      "source": [
        "# Lakukan iterasi dengan jarak awal sesuai dengan nilai\n",
        "# yang Anda tentukan berdasarkan grafik yang telah dibuat sebelumnya\n",
        "\n",
        "# Masukkan jarak awal dalam satuan AU\n",
        "distance = 0.02029577492*u.AU\n",
        "\n",
        "# Masukkan learning rate yang Anda kira sesuai\n",
        "# agar iterasi berjalan dengan efektif\n",
        "learning_rate = (1e-13)*u.AU\n",
        "\n",
        "# Variabel berikut akan melakukan record jumlah iterasi\n",
        "iter = 1\n",
        "\n",
        "# Variabel berikut menentukan batas waktu iterasi\n",
        "start_time = time()\n",
        "time_limit = start_time + 360\n",
        "\n",
        "while (time() < time_limit):\n",
        "    # Lengkapi kode berikut untuk menghitung fungsi ruas kiri\n",
        "    left_val = left(distance + learning_rate)\n",
        "\n",
        "    # Lengkapi kode berikut untuk menghitung fungsi ruas kanan\n",
        "    right_val = right(distance + learning_rate)\n",
        "\n",
        "    # Lengkapi kode berikut untuk menghitung selisih ruas kiri dan kanan\n",
        "    diffs = diff(left_val, right_val)\n",
        "\n",
        "    # Program akan mencetak progress setiap 50000 iterasi\n",
        "    if (iter % 50000) == 0:\n",
        "        print(f\"Iteration {iter}: Diff = {diffs}, Time Elapsed = {(time() - start_time):.3f} s\")\n",
        "\n",
        "    # Lengkapi syarat untuk menghentikan iterasi\n",
        "    if diffs < 10*(u.kg/(u.meter)**2).decompose():\n",
        "        break\n",
        "\n",
        "    # Iterasi akan dilakukan dengan faktor tambahan\n",
        "    # sebesar learning rate yang telah ditentukan\n",
        "    distance += learning_rate\n",
        "    iter += 1\n",
        "\n",
        "if (time() < time_limit):\n",
        "    print(f\"\\nProses selesai pada iterasi {iter} dengan selisih {diffs}\")\n",
        "    print(f\"Jarak L3 dari pusat massa adalah {distance}\")\n",
        "else:\n",
        "    print(\"\\nIterasi berjalan terlalu lama. Anda mungkin melompati batas yang ditentukan.\")\n",
        "\n",
        "# Simpan jarak L3 pada variabel distance_L3\n",
        "distance_L3 = distance"
      ]
    },
    {
      "cell_type": "markdown",
      "metadata": {
        "id": "0f3e5b22"
      },
      "source": [
        "<b>Expected Output:</b>\n",
        "<table>\n",
        "    <tr>\n",
        "      <td> <b>Selisih kedua ruas<b></td>\n",
        "      <td> < 10 </td>\n",
        "    </tr>\n",
        "</table>"
      ]
    },
    {
      "cell_type": "markdown",
      "metadata": {
        "id": "26eb8f70"
      },
      "source": [
        "<details>\n",
        "    <summary><font size=3 color=\"darkgreen\"><b>Click for hints</b></font></summary>\n",
        "\n",
        "* Tentukan jarak awal yang cukup dekat dengan titik potong di grafik. Anda dapat mengatur batas grafik dari `0.019 AU` hingga `0.020 AU`.\n",
        "    \n",
        "* Jika proses iterasi berlangsung terlalu lama, misalnya lebih dari 5 menit, ada kemungkinan program Anda melompati batas selisih yang ditentukan.\n",
        "    \n",
        "<details>\n",
        "          <summary><font size=\"2\" color=\"darkblue\"><b>Bagaimana jika proses iterasi tidak selesai?</b></font></summary>\n",
        "        \n",
        "  - Anda dapat memulai iterasi dengan jarak awal `0.0195 AU`, namun nilai tersebut tidak menghasilkan iterasi yang efektif. Silakan cari nilai jarak awal sehingga proses iterasi lebih efektif.\n",
        "    \n",
        "<details>\n",
        "          <summary><font size=\"2\" color=\"darkblue\"><b>Klik menu berikut jika sudah putus asa</b></font></summary>\n",
        "        \n",
        "  - Nilai berikut dapat Anda pilih untuk memulai iterasi. Proses yang dijalankan tidak terlalu efektif dan memakan waktu yang lama, sehingga Anda tetap dianjurkan untuk menentukan sendiri nilai yang digunakan.\n",
        "    \n",
        "    `distance = 0.01958 * u.AU`\n",
        "    \n",
        "    `learning_rate = 1E-13`\n",
        "    \n",
        "    </details>\n",
        "    \n",
        "    </details>\n",
        "    \n",
        "</details>"
      ]
    },
    {
      "cell_type": "markdown",
      "metadata": {
        "id": "df9246cf"
      },
      "source": [
        "### Problem 1.3: Menentukan galat absolut"
      ]
    },
    {
      "cell_type": "markdown",
      "metadata": {
        "id": "ad831cd9"
      },
      "source": [
        "Setelah Anda menentukan posisi L1 dan L3 dari sistem bintang CT Eri dan memasukkannya ke dalam variabel `distance_L1` dan `distance_L3`, Anda dapat menghitung galat absolut dari posisi L1 dan L3 dari perhitungan numerik dan analitik. Persamaan di bawah ini dapat digunakan untuk menentukan galat absolut ($\\epsilon$) dari perhitungan analitik dan numerik.\n",
        "\n",
        "$$\n",
        "\\epsilon = \\frac{|r_{numerik}-r_{analitik}|}{r_{numerik}}\n",
        "$$\n",
        "\n",
        "Dari penurunan persamaan titik Lagrange yang telah dipelajari di kelas, diperoleh jarak untuk $L_1$ dan $L_3$ dapat dinyatakan sebagai berikut.\n",
        "\n",
        "$$\n",
        "r_{L_1} = r_2 \\left[1 - \\left(\\frac{M_2}{3M_1 + M_2}\\right)^{1/3}\\right] \\\\\n",
        "r_{L_3} = a \\left[1 + \\frac{5}{12} \\frac{M_2}{M_1 + M_2}\\right]\n",
        "$$"
      ]
    },
    {
      "cell_type": "code",
      "execution_count": null,
      "metadata": {
        "id": "2dee4f0b"
      },
      "outputs": [],
      "source": [
        "# Definisikan fungsi analitik untuk menghitung jarak L1 dan L3\n",
        "# Jangan lupa untuk melakukan decompose pada akhir persamaan\n",
        "\n",
        "L1_analytic = radius_2*(1 - np.cbrt(mass_2/(3*mass_1 + mass_2)))\n",
        "L3_analytic = semi_major_axis*(1 + (5/12)*(mass_2/total_mass))\n",
        "\n",
        "print(f\"Jarak L1 dari pusat massa dengan metode analitik adalah {L1_analytic:.7f}\")\n",
        "print(f\"Jarak L3 dari pusat massa dengan metode analitik adalah {L3_analytic:.7f}\")"
      ]
    },
    {
      "cell_type": "markdown",
      "metadata": {
        "id": "7d8aa40a"
      },
      "source": [
        "<b>Expected Outputs:</b>\n",
        "<table>\n",
        "    <tr>\n",
        "      <td> <b>Jarak L1<b></td>\n",
        "      <td> 0.0078441 AU </td>\n",
        "    </tr>\n",
        "    <tr>\n",
        "      <td> <b>Jarak L3<b></td>\n",
        "      <td> 0.0203101 AU </td>\n",
        "    </tr>\n",
        "</table>"
      ]
    },
    {
      "cell_type": "code",
      "execution_count": null,
      "metadata": {
        "id": "52ca244b"
      },
      "outputs": [],
      "source": [
        "# Lengkapi kode di bawah ini untuk menghitung galat absolut dari jarak L1 dan L3\n",
        "L1_err = abs(distance_L1 - L1_analytic)/distance_L1\n",
        "L3_err = abs(distance_L3 - L3_analytic)/distance_L3\n",
        "\n",
        "print(f\"Galat perhitungan L1 adalah {L1_err} atau {(L1_err*100):.3f}%\")\n",
        "print(f\"Galat perhitungan L3 adalah {L3_err} atau {(L3_err*100):.3f}%\")"
      ]
    },
    {
      "cell_type": "markdown",
      "metadata": {
        "id": "e44a2298"
      },
      "source": [
        "<b>Expected Outputs:</b>\n",
        "<table>\n",
        "    <tr>\n",
        "      <td> <b>Galat L1<b></td>\n",
        "      <td> < 10% </td>\n",
        "    </tr>\n",
        "    <tr>\n",
        "      <td> <b>Galat L3<b></td>\n",
        "      <td> < 5% </td>\n",
        "    </tr>\n",
        "</table>"
      ]
    },
    {
      "cell_type": "markdown",
      "metadata": {
        "id": "356e1c3e"
      },
      "source": [
        "### Problem 1.4: Menentukan L1 pada sistem Matahari-Jupiter"
      ]
    },
    {
      "cell_type": "markdown",
      "metadata": {
        "id": "c667b26f"
      },
      "source": [
        "Pada tugas bagian ini, Anda diminta untuk melakukan hal yang serupa dengan apa yang telah dilakukan pada bagian 1.2 untuk menentukan posisi L1. Anda akan diberikan data hubungan Matahari dan Jupiter yang dapat digunakan untuk menyelesaikan persoalan ini.\n",
        "\n",
        "**Data planet Jupiter**\n",
        "\n",
        "Massa ($M_J/M_{\\odot}$) : 1/1047\n",
        "\n",
        "*Semi-mayor axis* orbit : 5.2038 AU"
      ]
    },
    {
      "cell_type": "code",
      "execution_count": null,
      "metadata": {
        "id": "3caab6a8"
      },
      "outputs": [],
      "source": [
        "# Definisikan variabel untuk menyimpan massa Matahari dan Jupiter\n",
        "# beserta panjang semi-mayor axis dari orbit Jupiter\n",
        "mass_ratio = 1/1047\n",
        "total_mass = (mass_ratio + 1)*u.Msun\n",
        "sun_mass = 1*u.Msun\n",
        "jupiter_mass = mass_ratio*u.Msun\n",
        "semi_major_axis = 5.2038*u.AU"
      ]
    },
    {
      "cell_type": "code",
      "execution_count": null,
      "metadata": {
        "id": "5266f2aa"
      },
      "outputs": [],
      "source": [
        "# Hitung jarak setiap komponen dari pusat massa\n",
        "sun_dist = (jupiter_mass/total_mass)*semi_major_axis\n",
        "jupiter_dist = semi_major_axis - sun_dist"
      ]
    },
    {
      "cell_type": "code",
      "execution_count": null,
      "metadata": {
        "id": "9d603da9"
      },
      "outputs": [],
      "source": [
        "# Lengkapi fungsi di bawah ini dengan bentuk yang sama\n",
        "# seperti persamaan yang sebelumnya pernah dilengkapi\n",
        "\n",
        "def left(x):\n",
        "    left = ((sun_mass/(sun_dist + x)**2) - (jupiter_mass/(jupiter_dist - x)**2)).decompose()\n",
        "    return left\n",
        "\n",
        "def right(x):\n",
        "    right = ((sun_mass*x)/(jupiter_dist*(semi_major_axis**2))).decompose()\n",
        "    return right\n",
        "\n",
        "def diff(x,y):\n",
        "    diff = abs(x-y).decompose()\n",
        "    return diff"
      ]
    },
    {
      "cell_type": "code",
      "execution_count": null,
      "metadata": {
        "id": "1fd169a3"
      },
      "outputs": [],
      "source": [
        "# Plot kembali nilai fungsi ruas kiri dan kanan dengan batas yang\n",
        "# Anda tentukan untuk mendapatkan gambaran awal posisi titik L1\n",
        "\n",
        "# Anda dapat mendefinisikan batas pada kode di bawah agar proses iterasi lebih efektif\n",
        "dist_array = np.linspace(4.85180411, 4.85180412, 10**6)*u.AU\n",
        "\n",
        "plt.grid()\n",
        "plt.plot(dist_array, left(dist_array), linewidth=2, label=\"Ruas kiri\", c=\"red\")\n",
        "plt.plot(dist_array, right(dist_array), linewidth=2, label=\"Ruas kanan\", c=\"black\")\n",
        "plt.xlabel(r\"$r_{L_1}$ (AU)\", fontsize = 14)\n",
        "plt.legend(fontsize = 14)\n",
        "plt.show()"
      ]
    },
    {
      "cell_type": "code",
      "execution_count": null,
      "metadata": {
        "id": "0961bea7"
      },
      "outputs": [],
      "source": [
        "# Lakukan iterasi dengan jarak awal sesuai dengan nilai\n",
        "# yang Anda tentukan berdasarkan grafik yang telah dibuat sebelumnya\n",
        "\n",
        "# Masukkan jarak awal dalam satuan AU\n",
        "distance = 4.851804113*u.AU\n",
        "\n",
        "# Masukkan learning rate yang Anda kira sesuai\n",
        "# agar iterasi berjalan dengan efektif\n",
        "learning_rate = (1E-10)*u.AU\n",
        "\n",
        "# Variabel berikut akan melakukan record jumlah iterasi\n",
        "iter = 1\n",
        "\n",
        "# Variabel berikut menentukan batas waktu iterasi\n",
        "start_time = time()\n",
        "time_limit = start_time + 600\n",
        "\n",
        "while (time() < time_limit):\n",
        "    # Lengkapi kode berikut untuk menghitung fungsi ruas kiri\n",
        "    left_val = left(distance + learning_rate)\n",
        "\n",
        "    # Lengkapi kode berikut untuk menghitung fungsi ruas kanan\n",
        "    right_val = right(distance + learning_rate)\n",
        "\n",
        "    # Lengkapi kode berikut untuk menghitung selisih ruas kiri dan kanan\n",
        "    diffs = diff(left_val, right_val)\n",
        "\n",
        "    # Program akan mencetak progress setiap 50000 iterasi\n",
        "    if (iter % 50000) == 0:\n",
        "        print(f\"Iteration {iter}: Diff = {diffs}, Time Elapsed = {(time() - start_time):.3f} s\")\n",
        "\n",
        "    # Lengkapi syarat untuk menghentikan iterasi\n",
        "    if diffs < (1e-4)*(u.kg/(u.meter)**2).decompose():\n",
        "        break\n",
        "\n",
        "    # Iterasi akan dilakukan dengan faktor tambahan\n",
        "    # sebesar learning rate yang telah ditentukan\n",
        "    distance += learning_rate\n",
        "    iter += 1\n",
        "\n",
        "if (time() < time_limit):\n",
        "    print(f\"\\nProses selesai pada iterasi {iter} dengan selisih {diffs}\")\n",
        "    print(f\"Jarak L1 dari pusat massa adalah {distance}\")\n",
        "else:\n",
        "    print(\"\\nIterasi berjalan terlalu lama. Anda mungkin melompati batas yang ditentukan.\")\n",
        "\n",
        "# Simpan jarak L1 pada variabel distance_L1\n",
        "distance_L1 = distance"
      ]
    },
    {
      "cell_type": "markdown",
      "metadata": {
        "id": "38eec6cb"
      },
      "source": [
        "<b>Expected Output:</b>\n",
        "<table>\n",
        "    <tr>\n",
        "      <td> <b>Selisih kedua ruas<b></td>\n",
        "      <td> < 10^-4 </td>\n",
        "    </tr>\n",
        "</table>"
      ]
    },
    {
      "cell_type": "markdown",
      "metadata": {
        "id": "78145176"
      },
      "source": [
        "<details>\n",
        "    <summary><font size=3 color=\"darkgreen\"><b>Click for hints</b></font></summary>\n",
        "\n",
        "* Tentukan jarak awal yang cukup dekat dengan titik potong di grafik. Anda dapat mengatur batas grafik dari `4.00 AU` hingga `5.00 AU`.\n",
        "    \n",
        "* Jika proses iterasi berlangsung terlalu lama, misalnya lebih dari 10 menit, ada kemungkinan program Anda melompati batas selisih yang ditentukan.\n",
        "    \n",
        "<details>\n",
        "          <summary><font size=\"2\" color=\"darkblue\"><b>Bagaimana jika proses iterasi tidak selesai?</b></font></summary>\n",
        "        \n",
        "  - Anda dapat memulai iterasi dengan jarak awal `4.80 AU`, namun nilai tersebut tidak menghasilkan iterasi yang efektif. Silakan cari nilai jarak awal sehingga proses iterasi lebih efektif.\n",
        "    \n",
        "<details>\n",
        "          <summary><font size=\"2\" color=\"darkblue\"><b>Klik menu berikut jika sudah putus asa</b></font></summary>\n",
        "        \n",
        "  - Nilai berikut dapat Anda pilih untuk memulai iterasi. Proses yang dijalankan tidak terlalu efektif dan memakan waktu yang lama, sehingga Anda tetap dianjurkan untuk menentukan sendiri nilai yang digunakan.\n",
        "    \n",
        "    `distance = 4.85 * u.AU`\n",
        "    \n",
        "    `learning_rate = 1E-10`\n",
        "    \n",
        "    </details>\n",
        "    \n",
        "    </details>\n",
        "    \n",
        "</details>"
      ]
    },
    {
      "cell_type": "code",
      "execution_count": null,
      "metadata": {
        "id": "219453fa"
      },
      "outputs": [],
      "source": [
        "# Definisikan fungsi analitik untuk menghitung jarak L1\n",
        "# Jangan lupa untuk melakukan decompose pada akhir persamaan\n",
        "\n",
        "L1_analytic = jupiter_dist*(1 - np.cbrt(jupiter_mass/(3*sun_mass + jupiter_mass)))\n",
        "\n",
        "print(f\"Jarak L1 dari pusat massa dengan metode analitik adalah {L1_analytic:.7f}\")"
      ]
    },
    {
      "cell_type": "markdown",
      "metadata": {
        "id": "69130af7"
      },
      "source": [
        "<b>Expected Output:</b>\n",
        "<table>\n",
        "    <tr>\n",
        "      <td> <b>Jarak L1<b></td>\n",
        "      <td> 4.8518041 AU </td>\n",
        "    </tr>\n",
        "</table>"
      ]
    },
    {
      "cell_type": "code",
      "execution_count": null,
      "metadata": {
        "id": "baabcc61"
      },
      "outputs": [],
      "source": [
        "# Lengkapi kode di bawah ini untuk menghitung galat absolut dari jarak L1 dan L3\n",
        "L1_err = abs(distance_L1 - L1_analytic)/distance_L1\n",
        "\n",
        "print(f\"Galat perhitungan L1 adalah {L1_err} atau {(L1_err*100):.3f}%\")"
      ]
    },
    {
      "cell_type": "markdown",
      "metadata": {
        "id": "c2b61ce6"
      },
      "source": [
        "<b>Expected Output:</b>\n",
        "<table>\n",
        "    <tr>\n",
        "      <td> <b>Galat L1<b></td>\n",
        "      <td> < 1% </td>\n",
        "    </tr>\n",
        "</table>"
      ]
    },
    {
      "cell_type": "markdown",
      "metadata": {
        "id": "c0a8cc79"
      },
      "source": [
        "## 4. Problem 2: Membuat Plot *Zero Velocity Contour* (ZVC)"
      ]
    },
    {
      "cell_type": "markdown",
      "metadata": {
        "id": "dc9e9253"
      },
      "source": [
        "Pada problem 2, Anda diberi tugas untuk membuat plot ZVC berdasarkan kode yang telah diberikan. Anda hanya perlu memasukkan variabel atau parameter yang diperlukan karena seluruh perhitungan sudah dipersiapkan sebelumnya untuk Anda. Sumber dari kode yang akan kita gunakan dapat Anda lihat [disini](https://ridlow.wordpress.com/2015/01/08/plot-zero-velocity-curves-circular-restricted-3-body-problem-using-python/)."
      ]
    },
    {
      "cell_type": "code",
      "execution_count": null,
      "metadata": {
        "id": "e5baad71"
      },
      "outputs": [],
      "source": [
        "# DO NOT EDIT THIS CODE BLOCK\n",
        "\n",
        "import math\n",
        "import matplotlib\n",
        "import numpy as np\n",
        "import matplotlib.cm as cm\n",
        "import matplotlib.mlab as mlab\n",
        "import matplotlib.pyplot as plt\n",
        "\n",
        "\"\"\"\n",
        "    (c) Copyleft 2015 | Ridlo W. Wibowoo\n",
        "    Zero Velocity Curve for circular restricted three-body problem\n",
        "    Normalization: m1 + m2 = 1, r = 1, mu = m2/(m1+m2)\n",
        "\"\"\"\n",
        "\n",
        "# for a given value of mu,\n",
        "# this function computes location of lagrange points\n",
        "def locationLagrange(mu):\n",
        "    l = 1-mu\n",
        "\n",
        "    # for L1, L2, L3: solving quintic polynomial function of lagrange point positions.\n",
        "    # Lagrange 1\n",
        "    coefL1 = [1, 2*(mu-l), l**2 - 4*l*mu + mu**2, 2*mu*l*(l-mu) + mu - l, mu**2 * l**2 + 2*(l**2 + mu**2), mu**3 - l**3]\n",
        "    L1roots = np.roots(coefL1)\n",
        "    L1 = 0\n",
        "    for i in L1roots:\n",
        "        if (i > -mu) and (i < l):\n",
        "            L1 = i\n",
        "    LP1 = [L1, 0]\n",
        "\n",
        "    # Lagrange 2\n",
        "    coefL2 = [1, 2*(mu-l), l**2 - 4*l*mu+mu**2, 2*mu*l*(l-mu) - (mu+l), mu**2 * l**2 + 2*(l**2 - mu**2), -(mu**3 + l**3)]\n",
        "    L2roots = np.roots(coefL2)\n",
        "    L2 = 0\n",
        "    for i in L2roots:\n",
        "        if (i > -mu) and (i > l):\n",
        "            L2 = i\n",
        "    LP2 = [L2, 0]\n",
        "\n",
        "    # Lagrange 3\n",
        "    coefL3 = [1, 2*(mu-l), l**2 - 4*mu*l+mu**2, 2*mu*l*(l-mu) + (l+mu), mu**2 * l**2 + 2*(mu**2 - l**2), l**3 + mu**3]\n",
        "    L3roots = np.roots(coefL3)\n",
        "    L3 = 0\n",
        "    for i in L3roots:\n",
        "        if (i < -mu):\n",
        "            L3 = i\n",
        "    LP3 = [L3, 0]\n",
        "\n",
        "    # Lagrange 4\n",
        "    LP4 = [0.5 - mu, math.sqrt(3)/2]\n",
        "\n",
        "    # Lagrange 5\n",
        "    LP5 = [0.5 - mu, -math.sqrt(3)/2]\n",
        "\n",
        "    return LP1, LP2, LP3, LP4, LP5\n",
        "\n",
        "\n",
        "# for a given value of x,y, and mu\n",
        "# this function computes jacobi constant Cj\n",
        "def cr3bpJacobi(x, y, mu):\n",
        "    r1 = np.sqrt((x+mu)**2 + y*y)\n",
        "    r2 = np.sqrt((x-1+mu)**2 + y*y)\n",
        "    return x**2 + y**2 + 2*((1-mu)/r1 + mu/r2) # n = 1\n",
        "\n",
        "\n",
        "# plot ZVC of lagrange points\n",
        "def plotLagrangeCj(mu):\n",
        "    LP = locationLagrange(mu)\n",
        "    Lx = [LP[0][0].real, LP[1][0].real , LP[2][0].real, LP[3][0], LP[4][0]]\n",
        "    Ly = [i[1] for i in LP]\n",
        "\n",
        "    CjL1 = cr3bpJacobi(Lx[0], Ly[0], mu)\n",
        "    CjL2 = cr3bpJacobi(Lx[1], Ly[1], mu)\n",
        "    CjL3 = cr3bpJacobi(Lx[2], Ly[2], mu)\n",
        "    ah = np.array([CjL3, CjL2, CjL1])\n",
        "    CjL = np.sort(ah)\n",
        "\n",
        "    # plot ZVC that run through L1, L2, L3\n",
        "    delta = 0.025\n",
        "    x = np.arange(-2.0, 2.0, delta)\n",
        "    y = np.arange(-2.0, 2.0, delta)\n",
        "    X, Y = np.meshgrid(x, y)\n",
        "    Z = cr3bpJacobi(X, Y, mu)\n",
        "\n",
        "\n",
        "    #contour\n",
        "    x1 = np.arange(-2.0, 2.0, 1/1000)\n",
        "    y1 = np.arange(-2.0, 2.0, 1/1000)\n",
        "    X1, Y1 = np.meshgrid(x1, y1)\n",
        "    Z1 = cr3bpJacobi(X1, Y1, mu)\n",
        "\n",
        "    plt.figure(figsize=(7,5.44))\n",
        "\n",
        "    orig_map=matplotlib.colormaps.get_cmap('coolwarm')\n",
        "\n",
        "    # reversing the original colormap using reversed() function\n",
        "    reversed_map = orig_map.reversed()\n",
        "\n",
        "\n",
        "    CS = plt.contour(X, Y, Z, CjL, cmap=cm.hot) # contour for CjL\n",
        "    CjL5 = cr3bpJacobi(Lx[4], Ly[4], mu)\n",
        "    zz = np.linspace (CjL5*0.8,CjL1*1.5,20)\n",
        "\n",
        "    cs = plt.contourf(X1,Y1,Z1,levels=zz,extend='max',cmap= cm.coolwarm)\n",
        "    plt.colorbar(cs)\n",
        "\n",
        "    # massive object\n",
        "    CS = plt.scatter([-mu], [0], marker='o', s=40, color='blue', alpha=1)\n",
        "    plt.text(-mu-0.1, -0.2, r'$m_1$')\n",
        "\n",
        "    CS = plt.scatter([1-mu], [0], marker='o', s=20, color='blue', alpha=1)\n",
        "    plt.text(1-mu-0.1, -0.2, r'$m_2$')\n",
        "\n",
        "    CS = plt.scatter([0], [0], marker='x', s=20, color='b', alpha=0.7)\n",
        "    plt.text(0+0.05,0-0.1, \"CM\")\n",
        "\n",
        "    CS = plt.scatter(Lx, Ly, marker='.', color='b', alpha=0.8) # for labels\n",
        "    # labels = [r'L$_1$', r'L$_2$', r'L$_3$', r'L$_4$', r'L$_5$']\n",
        "    # for i in range(5):\n",
        "    #     CS = plt.text(Lx[i]-0.2, Ly[i]-0.05, labels[i])\n",
        "    CS = plt.text(Lx[0]-0.05, Ly[0]-0.15, r'L$_1$')\n",
        "    CS = plt.text(Lx[1]+0.05, Ly[1]-0.05, r'L$_2$')\n",
        "    CS = plt.text(Lx[2]-0.2, Ly[2]-0.05, r'L$_3$')\n",
        "    CS = plt.text(Lx[3]-0.05, Ly[3]+0.05, r'L$_4$')\n",
        "    CS = plt.text(Lx[4]-0.05, Ly[4]-0.15, r'L$_5$')\n",
        "    q = mu/(1-mu)\n",
        "    plt.xlabel(\"X offset from CM (AU)\",size=12)\n",
        "    plt.ylabel(\"Y offset from CM (AU)\",size=12)\n",
        "\n",
        "    plt.title(r'Zero Velocity Contour for $q = {:.2f}$'.format(q))\n",
        "    plt.tight_layout()\n",
        "    plt.show()\n",
        "    # plt.savefig('ZVCLagrange.png')"
      ]
    },
    {
      "cell_type": "markdown",
      "metadata": {
        "id": "c12f050e"
      },
      "source": [
        "Pada blok kode berikutnya, Anda diminta melengkapi kode yang digunakan untuk menghitung besaran `mu`, dan membentuk array yang berisikan koordinat yang memenuhi interval **[-2,2]** menggunakan modul `np.linspace`."
      ]
    },
    {
      "cell_type": "code",
      "execution_count": null,
      "metadata": {
        "id": "1d5e7bd2"
      },
      "outputs": [],
      "source": [
        "# Kode berikut digunakan untuk membentuk ZVC\n",
        "# bagi sistem bintang ganda CT Eri\n",
        "\n",
        "mu = 1 - 1/(0.3+1)\n",
        "\n",
        "# Bentuk array untuk koordinat x dan y pada\n",
        "# interval -2 hingga 2 yang berisi 1.000.000 titik\n",
        "x = np.linspace(-2, 2, 10**6)\n",
        "y = np.linspace(-2, 2, 10**6)\n",
        "\n",
        "# Kode berikut digunakan untuk membuat plot ZVC\n",
        "locationLagrange(mu)\n",
        "cr3bpJacobi(x, y, mu)\n",
        "plotLagrangeCj(mu)"
      ]
    },
    {
      "cell_type": "markdown",
      "metadata": {
        "id": "6ca7d071"
      },
      "source": [
        "<b>Expected Output:</b>\n",
        "\n",
        "<img src=\"ZVC_CT-Eri.png\" alt=\"ZVC sistem bintang CT Eri\" width=\"500\"/>"
      ]
    },
    {
      "cell_type": "markdown",
      "metadata": {
        "id": "430495fd"
      },
      "source": [
        "Dengan menggunakan kode yang sama, Anda diminta membentuk plot ZVC untuk sistem Bumi-Jupiter. Anda dapat melengkapi kode tersebut pada blok di bawah ini."
      ]
    },
    {
      "cell_type": "code",
      "execution_count": null,
      "metadata": {
        "id": "b6141735"
      },
      "outputs": [],
      "source": [
        "# Kode berikut digunakan untuk membentuk ZVC\n",
        "# bagi sistem Bumi dan Jupiter\n",
        "\n",
        "# Inisiasi besaran massa Bumi dan Jupiter\n",
        "earth_mass = const.M_earth\n",
        "jupiter_mass = const.M_jup\n",
        "\n",
        "mu = 1 - 1/(1 + (earth_mass/jupiter_mass).value)\n",
        "\n",
        "# Bentuk array untuk koordinat x dan y pada\n",
        "# interval -2 hingga 2 yang berisi 1.000.000 titik\n",
        "x = np.linspace(-2, 2, 10**6)\n",
        "y = np.linspace(-2, 2, 10**6)\n",
        "\n",
        "# Kode berikut digunakan untuk membuat plot ZVC\n",
        "locationLagrange(mu)\n",
        "cr3bpJacobi(x, y, mu)\n",
        "plotLagrangeCj(mu)"
      ]
    },
    {
      "cell_type": "markdown",
      "metadata": {
        "id": "8d092be5"
      },
      "source": [
        "<b>Expected Output:</b>\n",
        "\n",
        "<img src=\"ZVC_Earth_Jupiter.png\" alt=\"ZVC sistem Bumi-Jupiter\" width=\"500\"/>"
      ]
    },
    {
      "cell_type": "markdown",
      "metadata": {
        "id": "a02293b7"
      },
      "source": [
        "## 5. Penutup"
      ]
    },
    {
      "cell_type": "markdown",
      "metadata": {
        "id": "e6aacec3"
      },
      "source": [
        "Selamat, Anda telah menyelesaikan tugas ini dengan baik. Jangan lupa untuk mengumpulkan tugas ini pada tempat yang telah disediakan. Sebelum mengumpulkan tugas, Anda dapat mengganti nama dari dokumen ini dengan format **NIM_tugasbesar.ipynb**.\n",
        "\n",
        "Selamat beristirahat!"
      ]
    },
    {
      "cell_type": "markdown",
      "metadata": {
        "id": "020012ea"
      },
      "source": [
        "## 6. Daftar Pustaka"
      ]
    },
    {
      "cell_type": "markdown",
      "metadata": {
        "id": "f92c113b"
      },
      "source": [
        "* S. Deb and H. P. Singh, “Physical parameters of 62 eclipsing binary stars using the All Sky Automated Survey-3 data- I,” *Monthly Notices of the Royal Astronomical Society*, vol. 412, no. 3, pp. 1787–1803, 2011. [https://doi.org/10.1111/j.1365-2966.2010.18016.x](https://doi.org/10.1111/j.1365-2966.2010.18016.x)\n",
        "\n",
        "* NASA, “Jupiter fact sheet.” https://nssdc.gsfc.nasa.gov/planetary/factsheet/jupiterfact.html.\n",
        "\n",
        "* R. W. Wibowo, “Plot zero-velocity curves (circular restricted 3-body problem) using Python.” https://ridlow.wordpress.com/2015/01/08/plot-zero-velocity-curves-circular-restricted-3-body-problem-using-python/, 2015."
      ]
    }
  ]
}